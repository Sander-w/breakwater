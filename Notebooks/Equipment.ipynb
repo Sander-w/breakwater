{
 "cells": [
  {
   "cell_type": "code",
   "execution_count": 1,
   "metadata": {},
   "outputs": [],
   "source": [
    "import numpy as np\n",
    "import breakwater as bw\n",
    "import matplotlib.pyplot as plt\n",
    "import pandas as pd\n",
    "pd.options.mode.chained_assignment = None  # default='warn'"
   ]
  },
  {
   "cell_type": "code",
   "execution_count": 3,
   "metadata": {
    "hide_input": false
   },
   "outputs": [],
   "source": [
    "MSL = 7\n",
    "LW, HW = MSL-1, MSL+1\n",
    "wlevs = [MSL, LW, HW]\n",
    "label = ['MSL', 'LW', 'HW']"
   ]
  },
  {
   "cell_type": "markdown",
   "metadata": {},
   "source": [
    "## <center> Trucks"
   ]
  },
  {
   "cell_type": "markdown",
   "metadata": {},
   "source": [
    "<div class=\"alert alert-block alert-info\">\n",
    "    \n",
    "Equipment:\n",
    "CT660s caterpillar\n",
    "1. operation_type: bulk"
   ]
  },
  {
   "cell_type": "markdown",
   "metadata": {},
   "source": [
    "#### Building at own level"
   ]
  },
  {
   "cell_type": "markdown",
   "metadata": {
    "hide_input": false
   },
   "source": [
    "<img src=\"Images/truck1.PNG\" alt=\"Drawing\" style=\"width: 700px;\"/>\n",
    "\n",
    "\n",
    "<div class=\"alert alert-block alert-success\">\n",
    "\n",
    "<center>Install: $y_{start} - y_{waterlvl} \\geq h_{dry}$"
   ]
  },
  {
   "cell_type": "code",
   "execution_count": 3,
   "metadata": {},
   "outputs": [
    {
     "ename": "TypeError",
     "evalue": "__init__() got an unexpected keyword argument 'operation_type'",
     "output_type": "error",
     "traceback": [
      "\u001b[1;31m---------------------------------------------------------------------------\u001b[0m",
      "\u001b[1;31mTypeError\u001b[0m                                 Traceback (most recent call last)",
      "\u001b[1;32m<ipython-input-3-72b5f29d3e42>\u001b[0m in \u001b[0;36m<module>\u001b[1;34m\u001b[0m\n\u001b[0;32m      1\u001b[0m \u001b[0mh_dry\u001b[0m \u001b[1;33m=\u001b[0m \u001b[1;36m1\u001b[0m\u001b[1;33m\u001b[0m\u001b[1;33m\u001b[0m\u001b[0m\n\u001b[0;32m      2\u001b[0m \u001b[1;33m\u001b[0m\u001b[0m\n\u001b[1;32m----> 3\u001b[1;33m Truck = bw.Truck(\n\u001b[0m\u001b[0;32m      4\u001b[0m                 \u001b[0mname\u001b[0m \u001b[1;33m=\u001b[0m \u001b[1;34m'CT660s'\u001b[0m\u001b[1;33m,\u001b[0m\u001b[1;33m\u001b[0m\u001b[1;33m\u001b[0m\u001b[0m\n\u001b[0;32m      5\u001b[0m                 \u001b[0mdesign_type\u001b[0m \u001b[1;33m=\u001b[0m \u001b[1;33m{\u001b[0m\u001b[1;34m'core'\u001b[0m\u001b[1;33m:\u001b[0m \u001b[1;33m{\u001b[0m\u001b[1;34m'LMA_60/300'\u001b[0m\u001b[1;33m:\u001b[0m \u001b[1;33m{\u001b[0m\u001b[1;34m'cost'\u001b[0m\u001b[1;33m:\u001b[0m \u001b[1;36m310\u001b[0m\u001b[1;33m,\u001b[0m \u001b[1;34m'CO2'\u001b[0m\u001b[1;33m:\u001b[0m \u001b[1;36m2\u001b[0m\u001b[1;33m,\u001b[0m \u001b[1;34m'production_rate'\u001b[0m\u001b[1;33m:\u001b[0m \u001b[1;36m0.8\u001b[0m\u001b[1;33m}\u001b[0m\u001b[1;33m}\u001b[0m\u001b[1;33m}\u001b[0m\u001b[1;33m,\u001b[0m\u001b[1;33m\u001b[0m\u001b[1;33m\u001b[0m\u001b[0m\n",
      "\u001b[1;31mTypeError\u001b[0m: __init__() got an unexpected keyword argument 'operation_type'"
     ]
    }
   ],
   "source": [
    "h_dry = 1\n",
    "\n",
    "Truck = bw.Truck(\n",
    "                name = 'CT660s', \n",
    "                design_type = {'core': {'LMA_60/300': {'cost': 310, 'CO2': 2, 'production_rate': 0.8}}}, \n",
    "                operation_type = ['bulk'],\n",
    "                mobilisation_cost = {'cost': 10000, 'CO2': 1000},\n",
    "                equipment_cost = {'cost': 50, 'CO2':1},\n",
    "                waterlvl = HW, \n",
    "                h_dry = h_dry\n",
    "                )"
   ]
  },
  {
   "cell_type": "code",
   "execution_count": null,
   "metadata": {
    "hide_input": true
   },
   "outputs": [],
   "source": [
    "section = [(0, 9), (3, 11), (8, 11), (11, 9)]\n",
    "x,y = list(zip(*section))\n",
    "y_start = min(y)\n",
    "ymax = y_start\n",
    "install = Truck.install(layer= 'core', \n",
    "                        grading_layer= 'quarry', \n",
    "                        section_coords = section,\n",
    "                        ymax= ymax,\n",
    "                        plot = True)\n",
    "\n"
   ]
  },
  {
   "cell_type": "code",
   "execution_count": null,
   "metadata": {
    "hide_input": true
   },
   "outputs": [],
   "source": [
    "section = [(0, 8), (3, 10), (8, 10), (11, 8)]\n",
    "x,y = list(zip(*section))\n",
    "y_start = min(y)\n",
    "ymax = y_start\n",
    "install = Truck.install(layer= 'core', \n",
    "                        grading_layer= 'quarry', \n",
    "                        section_coords = section, \n",
    "                        ymax= ymax,\n",
    "                        plot = True)\n"
   ]
  },
  {
   "cell_type": "code",
   "execution_count": null,
   "metadata": {
    "hide_input": true
   },
   "outputs": [],
   "source": [
    "section = [(0, 9), (1.5, 10), (3.5, 10), (2, 9)]\n",
    "x,y = list(zip(*section))\n",
    "y_start = min(y)\n",
    "ymax = y_start\n",
    "install = Truck.install(layer= 'armour', \n",
    "                        grading_layer= 'HMA_1000/3000', \n",
    "                        section_coords = section,\n",
    "                        ymax= ymax,\n",
    "                        plot= True)\n"
   ]
  },
  {
   "cell_type": "markdown",
   "metadata": {},
   "source": [
    "#### Building at another level"
   ]
  },
  {
   "cell_type": "markdown",
   "metadata": {},
   "source": [
    "<img src=\"Images/truck2.PNG\" alt=\"Drawing\" style=\"width: 700px;\"/>\n",
    "\n",
    "\n",
    "<div class=\"alert alert-block alert-success\">\n",
    "\n",
    "<center>Install: $y_{max} - y_{waterlvl} \\geq h_{dry}$"
   ]
  },
  {
   "cell_type": "code",
   "execution_count": null,
   "metadata": {
    "hide_input": true
   },
   "outputs": [],
   "source": [
    "section = [(0, 7), (2/3, 8), (1+2/3, 8), (1, 7)]\n",
    "section2 = [(1, 7), (2+1/3, 9), (5, 9), (6, 7)]\n",
    "x,y = list(zip(*section))\n",
    "x2,y2 = list(zip(*section2))\n",
    "y_start = min(y)\n",
    "ymax = max(y2)\n",
    "install = Truck.install(layer= 'core', \n",
    "                        grading_layer= 'quarry', \n",
    "                        ymax= ymax,\n",
    "                        section_coords = section,\n",
    "                        plot= True)\n"
   ]
  },
  {
   "cell_type": "code",
   "execution_count": null,
   "metadata": {
    "hide_input": true
   },
   "outputs": [],
   "source": [
    "section = [(0, 7), (2/3, 8), (1+2/3, 8), (1, 7)]\n",
    "section2 = [(1, 7), (2, 8.5), (5, 8.5), (6, 7)]\n",
    "x,y = list(zip(*section))\n",
    "x2,y2 = list(zip(*section2))\n",
    "y_start = min(y)\n",
    "ymax = max(y2)\n",
    "install = Truck.install(layer= 'core', \n",
    "                        grading_layer= 'quarry', \n",
    "                        section_coords = section, \n",
    "                        ymax= ymax,\n",
    "                        plot= True)\n"
   ]
  },
  {
   "cell_type": "markdown",
   "metadata": {},
   "source": [
    "## <center> Crawlers"
   ]
  },
  {
   "cell_type": "markdown",
   "metadata": {},
   "source": [
    "<div class=\"alert alert-block alert-info\">\n",
    "    \n",
    "Equipment:\n",
    "HITACHI_EX1900\n",
    "1. operation_type: individual\n",
    "2. offset: 1 m\n",
    "3. $h_{dry}$: 1 m"
   ]
  },
  {
   "cell_type": "code",
   "execution_count": 5,
   "metadata": {},
   "outputs": [],
   "source": [
    "h_dry = 1\n",
    "offset = 1\n",
    "\n",
    "Exc = bw.HITACHI_EX1900(\n",
    "                            name= 'Hitachi', \n",
    "                            design_type = {'armour': {'HMA_3000/10000': {'cost': 50, 'CO2': 2, 'production_rate': 0.5}}}, \n",
    "                            mobilisation_cost = {'cost': 10000, 'CO2': 1000},\n",
    "                            equipment_cost = {'cost': 50, 'CO2':1},\n",
    "                            waterlvl= HW, \n",
    "                            h_dry= h_dry, \n",
    "                            offset= offset\n",
    "                           )"
   ]
  },
  {
   "cell_type": "markdown",
   "metadata": {},
   "source": [
    "#### Building at own level\n",
    "\n",
    "<img src=\"Images/excv1.PNG\" alt=\"Drawing\" style=\"width: 700px;\"/>\n",
    "\n",
    "\n",
    "<div class=\"alert alert-block alert-success\">\n",
    "\n",
    "<center>Install: $y_{start} - y_{waterlvl} \\geq h_{dry}$"
   ]
  },
  {
   "cell_type": "code",
   "execution_count": 7,
   "metadata": {
    "hide_input": false
   },
   "outputs": [
    {
     "data": {
      "image/png": "[encoded data removed]",
      "text/plain": [
       "<Figure size 1080x504 with 1 Axes>"
      ]
     },
     "metadata": {
      "needs_background": "light"
     },
     "output_type": "display_data"
    }
   ],
   "source": [
    "section = [(0, 9), (3, 11), (8, 11), (5, 9)]\n",
    "mass= 10\n",
    "\n",
    "install = Exc.install(layer= 'armour', \n",
    "                          grading_layer= 'HMA_3000/10000', \n",
    "                          ymax= 10,\n",
    "                          section_coords= section, \n",
    "                          xmax_top= 10, \n",
    "                          mass= mass, \n",
    "                          length_top = 20, \n",
    "                          plot= True)\n"
   ]
  },
  {
   "cell_type": "code",
   "execution_count": null,
   "metadata": {
    "hide_input": true
   },
   "outputs": [],
   "source": [
    "section = [(0, 7.5), (3, 9.5), (8, 9.5), (5, 7.5)]\n",
    "mass= 10\n",
    "\n",
    "install = Crawler.install(layer= 'armour', \n",
    "                          grading_layer= 'HMA_3000/10000', \n",
    "                          ymax= 2,\n",
    "                          section_coords= section, \n",
    "                          xmax_top= 10, \n",
    "                          mass= mass, \n",
    "                          length_top = 20, \n",
    "                          plot= True)"
   ]
  },
  {
   "cell_type": "markdown",
   "metadata": {},
   "source": [
    "#### Building at another level"
   ]
  },
  {
   "cell_type": "markdown",
   "metadata": {},
   "source": [
    "<img src=\"Images/excv2.PNG\" alt=\"Drawing\" style=\"width: 700px;\"/>\n",
    "\n",
    "<div class=\"alert alert-block alert-success\">\n",
    "\n",
    "<center>Install: $y_{max} - y_{waterlvl} \\geq h_{dry} \\text{ and } M_{layer} \\leq M_{min}[section]$ </center>\n",
    "\n",
    "Where:\n",
    "1. $M_{layer}$ = mass of the layer\n",
    "2. $M_{min}[section]$ = minimum lift capacity from the loading chart at the section "
   ]
  },
  {
   "cell_type": "markdown",
   "metadata": {},
   "source": [
    "<img src=\"Images/HITACHI.PNG\" alt=\"Drawing\" style=\"width: 400px;\"/>"
   ]
  },
  {
   "cell_type": "code",
   "execution_count": null,
   "metadata": {
    "hide_input": true
   },
   "outputs": [],
   "source": [
    "section = [(20, 5), (17, 7), (20, 7), (23, 5)]\n",
    "mass = 10\n",
    "\n",
    "install = Crawler.install(layer= 'armour', grading_layer= 'HMA_3000/10000', ymax= 10,\n",
    "                section_coords= section, xmax_top= 3, mass= mass,length_top = 20, plot= True)\n",
    "\n",
    "print(f'The Hitachi can install the section: {install}, as the section falls within the loading chart and ymax (= 10) > HW+h_dry (= {HW + h_dry})')"
   ]
  },
  {
   "cell_type": "code",
   "execution_count": null,
   "metadata": {
    "hide_input": true
   },
   "outputs": [],
   "source": [
    "section = [(10, 5), (7, 7), (10, 7), (13, 5)]\n",
    "\n",
    "mass = 10\n",
    "\n",
    "install = Crawler.install(layer= 'armour', grading_layer= 'HMA_3000/10000', ymax= 10,\n",
    "                section_coords= section, xmax_top= 3, mass= mass, length_top = 20, plot= True)\n",
    "\n",
    "print(f'The Hitachi can install the section: {install}, as the equipment can be moved on the top layer.')"
   ]
  },
  {
   "cell_type": "code",
   "execution_count": null,
   "metadata": {
    "hide_input": true
   },
   "outputs": [],
   "source": [
    "section = [(3, 5), (0, 7), (3, 7), (6, 5)]\n",
    "\n",
    "mass = 10\n",
    "\n",
    "install = Crawler.install(layer= 'armour', grading_layer= 'HMA_3000/10000', ymax= 10,\n",
    "                section_coords= section, xmax_top= 3, mass= mass, length_top = 20, plot= True)\n",
    "\n",
    "print(f'The Hitachi can install the section: {install}, as the equipment can be moved on the top layer.')"
   ]
  },
  {
   "cell_type": "code",
   "execution_count": null,
   "metadata": {
    "hide_input": true
   },
   "outputs": [],
   "source": [
    "section = [(-6, 5), (-9, 7), (-6, 7), (-3, 5)]\n",
    "\n",
    "mass = 10\n",
    "\n",
    "install = Crawler.install(layer= 'armour', grading_layer= 'HMA_3000/10000', ymax= 10,\n",
    "                section_coords= section, xmax_top= 3, mass= mass, length_top = 20, plot= True)"
   ]
  },
  {
   "cell_type": "code",
   "execution_count": null,
   "metadata": {
    "hide_input": true
   },
   "outputs": [],
   "source": [
    "section = [(20, 5), (17, 7), (20, 7), (23, 5)]\n",
    "mass = 100\n",
    "\n",
    "install = Crawler.install(layer= 'armour', grading_layer= 'HMA_3000/10000', ymax= 10,\n",
    "                section_coords= section, xmax_top= 3, mass= mass, length_top = 20, plot= True)\n"
   ]
  },
  {
   "cell_type": "code",
   "execution_count": null,
   "metadata": {
    "hide_input": true
   },
   "outputs": [],
   "source": [
    "section = [(3, 5), (0, 7), (3, 7), (6, 5)]\n",
    "\n",
    "mass = 40\n",
    "\n",
    "install = Crawler.install(layer= 'armour', grading_layer= 'HMA_3000/10000', ymax= 10,\n",
    "                section_coords= section, xmax_top= 3, mass= mass, length_top = 20, plot= True)"
   ]
  },
  {
   "cell_type": "code",
   "execution_count": null,
   "metadata": {
    "hide_input": true
   },
   "outputs": [],
   "source": [
    "section = [(3, 5), (0, 7), (3, 7), (6, 5)]\n",
    "\n",
    "mass = 10\n",
    "length_top = 3\n",
    "\n",
    "install = Crawler.install(layer= 'armour', grading_layer= 'HMA_3000/10000', ymax= 10,\n",
    "                section_coords= section, xmax_top= 3, mass= mass, length_top = length_top, plot= True)"
   ]
  },
  {
   "cell_type": "markdown",
   "metadata": {},
   "source": [
    "## <center> Cranes"
   ]
  },
  {
   "cell_type": "markdown",
   "metadata": {},
   "source": [
    "<div class=\"alert alert-block alert-info\">\n",
    "    \n",
    "Equipment:\n",
    "ATF 130G-5 42.3t\n",
    "1. operation_type: individual\n",
    "2. offset: 1 m\n",
    "3. $h_{dry}$: 1 m"
   ]
  },
  {
   "cell_type": "markdown",
   "metadata": {},
   "source": [
    "#### Building at own level\n",
    "\n",
    "$\\textit{see crawler}$\n",
    "\n",
    "\n",
    "<div class=\"alert alert-block alert-success\">\n",
    "\n",
    "<center>Install: $y_{start} - y_{waterlvl} \\geq h_{dry}$"
   ]
  },
  {
   "cell_type": "markdown",
   "metadata": {},
   "source": [
    "#### Building at own level\n",
    "\n",
    "$\\textbf{Make an Image}$\n",
    "\n",
    "<div class=\"alert alert-block alert-success\">\n",
    "\n",
    "<center>Install: $y_{max} - y_{waterlvl} \\geq h_{dry} \\text{ and } M_{layer} \\leq M_{max}$ </center>\n",
    "\n",
    "Where:\n",
    "1. $M_{layer}$ = mass of the material of the layer\n",
    "2. $M_{max}$ = maximum lifting capacity at the maximum distance between section and equipment\n",
    "3. Loading chart: "
   ]
  },
  {
   "cell_type": "code",
   "execution_count": null,
   "metadata": {
    "hide_input": true
   },
   "outputs": [],
   "source": [
    "import tabula\n",
    "\n",
    "file = \"Images/crane_load.pdf\"\n",
    " \n",
    "tables = tabula.read_pdf(file, pages = \"all\", multiple_tables = True)\n",
    "\n",
    "df = tables[0]\n",
    "df = df.set_index('Unnamed: 0')\n",
    "df.columns = df.iloc[1]\n",
    "df = df.loc[df.index.dropna()]\n",
    "df.index = df.index.rename(name= 'Radius')\n",
    "df.columns.name = None\n",
    "df.drop(['m'], axis=1, inplace= True)\n",
    "df = df.replace('\\**','', regex=True)\n",
    "df.rename(columns= {'12.8 m 17.1 m': '12.8 m', df.columns[2]: '17.1 m'}, inplace= True)\n",
    "\n",
    "for i in range(len(df['12.8 m'])):\n",
    "    if type(df['12.8 m'].iloc[i]) != float:\n",
    "        l = df['12.8 m'].iloc[i].split(' ')\n",
    "        df['17.1 m'].iloc._setitem_with_indexer(i, l[-1])\n",
    "        if len(l) > 1:\n",
    "            df['12.8 m'].iloc._setitem_with_indexer(i, l[0])\n",
    "        else:\n",
    "            df['12.8 m'].iloc._setitem_with_indexer(i, np.nan)\n",
    "            \n",
    "for c in df.columns:\n",
    "    c_new = c.split(' ')[0]\n",
    "    df.rename(columns= {c: c_new}, inplace= True)\n",
    "    \n",
    "loading_chart = df.astype(float)\n",
    "loading_chart"
   ]
  },
  {
   "cell_type": "code",
   "execution_count": null,
   "metadata": {
    "hide_input": false
   },
   "outputs": [],
   "source": [
    "offset = 1\n",
    "h_dry = 1\n",
    "\n",
    "Crane = bw.Crane(\n",
    "                    name= 'ATF', \n",
    "                    design_type= {'28t': {'cost': 50, 'CO2': 2, 'production_rate': 0.5}}}, \n",
    "                    operation_type = ['individual'],\n",
    "                    mobilisation_cost = {'cost': 10000, 'CO2': 1000},\n",
    "                    equipment_cost = {'cost': 50, 'CO2':1},\n",
    "                    waterlvl = HW, \n",
    "                    loading_chart = loading_chart, \n",
    "                    h_dry = h_dry, \n",
    "                    offset = offset\n",
    "                )"
   ]
  },
  {
   "cell_type": "code",
   "execution_count": null,
   "metadata": {
    "hide_input": true
   },
   "outputs": [],
   "source": [
    "section = [(14, 5), (12, 7), (15, 7), (17, 5)]\n",
    "section2 = [(1, 5), (5, 10), (10, 10), (14, 5)]\n",
    "mass = 10\n",
    "ymax = 10\n",
    "xmax_top = 10\n",
    "\n",
    "install = Crane.install(\n",
    "                        layer = 'armour', \n",
    "                        grading_layer = '28t', \n",
    "                        ymax = 10, \n",
    "                        section_coords = section, \n",
    "                        xmax_top = xmax_top, \n",
    "                        mass = mass,\n",
    "                        plot = True\n",
    "                       )\n",
    "\n"
   ]
  },
  {
   "cell_type": "code",
   "execution_count": null,
   "metadata": {
    "hide_input": true
   },
   "outputs": [],
   "source": [
    "section = [(25, 5), (23, 7), (26, 7), (28, 5)]\n",
    "section2 = [(1, 5), (5, 10), (10, 10), (14, 5)]\n",
    "mass = 10\n",
    "ymax = 10\n",
    "xmax_top = 10\n",
    "\n",
    "install = Crane.install(\n",
    "                        layer = 'armour', \n",
    "                        grading_layer = '28t', \n",
    "                        ymax = 10, \n",
    "                        section_coords = section, \n",
    "                        xmax_top = xmax_top, \n",
    "                        mass = mass,\n",
    "                        plot = True\n",
    "                       )\n",
    "\n"
   ]
  },
  {
   "cell_type": "code",
   "execution_count": null,
   "metadata": {
    "hide_input": true
   },
   "outputs": [],
   "source": [
    "section = [(35, 5), (33, 7), (36, 7), (38, 5)]\n",
    "section2 = [(1, 5), (5, 10), (10, 10), (14, 5)]\n",
    "mass = 10\n",
    "ymax = 10\n",
    "xmax_top = 10\n",
    "\n",
    "install = Crane.install(\n",
    "                        layer = 'armour', \n",
    "                        grading_layer = '28t', \n",
    "                        ymax = 10, \n",
    "                        section_coords = section, \n",
    "                        xmax_top = xmax_top, \n",
    "                        mass = mass,\n",
    "                        plot= True\n",
    "                       )\n"
   ]
  },
  {
   "cell_type": "markdown",
   "metadata": {},
   "source": [
    "## <center> Vessels"
   ]
  },
  {
   "cell_type": "markdown",
   "metadata": {},
   "source": [
    "<div class=\"alert alert-block alert-info\">\n",
    "    \n",
    "Equipment: HAM 602 (side stone dumper)\n",
    "1. operation_type: bulk\n",
    "2. draught: 4.80 m"
   ]
  },
  {
   "cell_type": "markdown",
   "metadata": {},
   "source": [
    "<img src=\"Images/vessel.PNG\" alt=\"Drawing\" style=\"width: 700px;\"/>\n",
    "\n",
    "<div class=\"alert alert-block alert-success\">\n",
    "\n",
    "<center>Install: $y_{waterlvl} - (\\text{draft}) \\geq y_{end} + \\text{margin}$ </center>\n",
    "\n",
    "Where:\n",
    "1. draft = maximum draft of the vessel including a barge\n",
    "2. margin = distance to ensure safe navigability (default is 1 m)"
   ]
  },
  {
   "cell_type": "code",
   "execution_count": 10,
   "metadata": {},
   "outputs": [],
   "source": [
    "draught = 4.08\n",
    "\n",
    "SSD = bw.Vessel(name= 'HAM602', \n",
    "                design_type= {'quarry': {'cost': 310, 'CO2': 2, 'production_rate': 0.8}, \n",
    "                              'HMA_30/100': {'cost': 310, 'CO2': 2, 'production_rate': 0.8}}, \n",
    "                mobilisation_cost = {'cost': 10000, 'CO2': 1000},\n",
    "                equipment_cost = {'cost': 50, 'CO2':1},\n",
    "                waterlvl= LW,\n",
    "                installation_waterdepth = draught,\n",
    "                ukc = 1)"
   ]
  },
  {
   "cell_type": "code",
   "execution_count": 11,
   "metadata": {
    "hide_input": true
   },
   "outputs": [
    {
     "data": {
      "image/png": "[encoded data removed]",
      "text/plain": [
       "<Figure size 1080x504 with 1 Axes>"
      ]
     },
     "metadata": {
      "needs_background": "light"
     },
     "output_type": "display_data"
    }
   ],
   "source": [
    "section = [(-2, 1), (1, 3), (6, 3), (9, 1)]\n",
    "x,y = list(zip(*section))\n",
    "end_section = max(y)\n",
    "\n",
    "install = SSD.install(section_coords = section, layer= 'core', grading_layer= 'quarry', plot= True)\n"
   ]
  },
  {
   "cell_type": "code",
   "execution_count": 12,
   "metadata": {
    "hide_input": true
   },
   "outputs": [
    {
     "data": {
      "image/png": "[encoded data removed]",
      "text/plain": [
       "<Figure size 1080x504 with 1 Axes>"
      ]
     },
     "metadata": {
      "needs_background": "light"
     },
     "output_type": "display_data"
    }
   ],
   "source": [
    "section = [(-2, 0), (1, 0.8), (6, 0.8), (9, 0)]\n",
    "x,y = list(zip(*section))\n",
    "\n",
    "install = SSD.install(section_coords = section, layer= 'core', grading_layer= 'quarry', plot= True)\n"
   ]
  },
  {
   "cell_type": "markdown",
   "metadata": {},
   "source": [
    "## <center> Barges and Landbased equipment"
   ]
  },
  {
   "cell_type": "markdown",
   "metadata": {},
   "source": [
    "<div class=\"alert alert-block alert-info\">\n",
    "    \n",
    "Equipment: Scheldeoord with either crane or crawler\n",
    "1. operation_type: individual\n",
    "2. draught: 1.8 m\n",
    "3. height: 3.0 m"
   ]
  },
  {
   "cell_type": "markdown",
   "metadata": {},
   "source": [
    "#### No depth limitation\n",
    "\n",
    "<img src=\"Images/barge2.PNG\" alt=\"Drawing\" style=\"width: 700px;\"/>\n",
    "\n",
    "\n",
    "<div class=\"alert alert-block alert-success\">\n",
    "\n",
    "1. Install crane: always. Barge can freely move around so there is no limitation in range. The crane has no depth limitation. $\\newline$\n",
    "2. Install crawler: $M_{layer} \\leq M[y_{equipment} - y_{start}]$, make image here. $\\newline$ There is only depth limitation which is estimated by the difference between the y-coordinate of the equipment and the y-coordinate of the start of the section."
   ]
  },
  {
   "cell_type": "code",
   "execution_count": null,
   "metadata": {
    "hide_input": false
   },
   "outputs": [],
   "source": [
    "draught = 1.8\n",
    "height = 3.0\n",
    "ukc = 1\n",
    "\n",
    "Barge_crane = bw.Barge(\n",
    "                    name = 'Scheldeoord',\n",
    "                    mobilisation_cost = {'cost': 10000, 'CO2': 1000},\n",
    "                    equipment_cost = {'cost': 50, 'CO2':1},\n",
    "                    waterlvl = LW, \n",
    "                    other = Crane, # The crane is placed on the barge\n",
    "                    draught = draught, \n",
    "                    height = height,\n",
    "                    ukc = ukc\n",
    "                )\n",
    "\n",
    "Barge_crawler = bw.Barge(\n",
    "                    name = 'Scheldeoord', \n",
    "                    mobilisation_cost = {'cost': 10000, 'CO2': 1000},\n",
    "                    equipment_cost = {'cost': 50, 'CO2':1},\n",
    "                    waterlvl = LW, \n",
    "                    other = Crawler, # The crawler is placed on the barge\n",
    "                    draught = draught, \n",
    "                    height = height,\n",
    "                    ukc = ukc\n",
    "                )"
   ]
  },
  {
   "cell_type": "code",
   "execution_count": null,
   "metadata": {
    "hide_input": false
   },
   "outputs": [],
   "source": [
    "section = [(2, 0), (1, 2), (3, 2), (4, 0)]\n",
    "x,y = list(zip(*section))\n",
    "end_section = max(y)\n",
    "\n",
    "\n",
    "install = Barge_crane.install(layer = 'armour', \n",
    "                              grading_layer = '28t', \n",
    "                              slope = (2, 3), \n",
    "                              section_coords = section, \n",
    "                              xmax_top = 5, \n",
    "                              mass = 20, \n",
    "                              plot =True)\n",
    "\n"
   ]
  },
  {
   "cell_type": "code",
   "execution_count": null,
   "metadata": {
    "hide_input": false
   },
   "outputs": [],
   "source": [
    "section = [(2, 3), (1, 5), (3, 5), (4, 3)]\n",
    "x,y = list(zip(*section))\n",
    "end_section = max(y)\n",
    "mass = 5\n",
    "\n",
    "\n",
    "install = Barge_crawler.install(\n",
    "                              layer= 'armour', \n",
    "                              grading_layer= 'HMA_3000/10000', \n",
    "                              slope = (2, 3), \n",
    "                              section_coords = section, \n",
    "                              xmax_top = 5, \n",
    "                              mass = mass,\n",
    "                              plot = True)\n"
   ]
  },
  {
   "cell_type": "markdown",
   "metadata": {},
   "source": [
    "#### Depth limitation\n",
    "\n",
    "<img src=\"Images/barge1.PNG\" alt=\"Drawing\" style=\"width: 700px;\"/>\n",
    "\n",
    "\n",
    "<div class=\"alert alert-block alert-success\">\n",
    "\n",
    "<center>Install crane: always. Barge can freely move around so there is no limitation in range. The crane has no depth limitation. $\\newline$\n",
    "Install crawler:    "
   ]
  },
  {
   "cell_type": "code",
   "execution_count": null,
   "metadata": {
    "hide_input": false
   },
   "outputs": [],
   "source": [
    "section = [(2, 2), (1, 4), (3, 4), (4, 2)]\n",
    "x,y = list(zip(*section))\n",
    "end_section = max(y)\n",
    "mass = 10\n",
    "\n",
    "install = Barge_crane.install(layer = 'armour', \n",
    "                              grading_layer = '28t', \n",
    "                              slope = (2, 3), \n",
    "                              section_coords = section, \n",
    "                              xmax_top = 5, \n",
    "                              mass = 20,\n",
    "                              plot= True)\n"
   ]
  },
  {
   "cell_type": "code",
   "execution_count": null,
   "metadata": {
    "hide_input": true
   },
   "outputs": [],
   "source": [
    "section = [(3, -3), (1, -1), (5, -1), (7, -3)]\n",
    "x,y = list(zip(*section))\n",
    "end_section = max(y)\n",
    "\n",
    "mass = 10\n",
    "\n",
    "install = Barge_crawler.install(layer= 'armour', \n",
    "                              grading_layer= 'HMA_3000/10000',\n",
    "                              slope = (2, 3), \n",
    "                              section_coords = section, \n",
    "                              xmax_top = 5, \n",
    "                              mass = mass,\n",
    "                              plot = True)"
   ]
  },
  {
   "cell_type": "code",
   "execution_count": null,
   "metadata": {},
   "outputs": [],
   "source": []
  }
 ],
 "metadata": {
  "kernelspec": {
   "display_name": "Python 3",
   "language": "python",
   "name": "python3"
  },
  "language_info": {
   "codemirror_mode": {
    "name": "ipython",
    "version": 3
   },
   "file_extension": ".py",
   "mimetype": "text/x-python",
   "name": "python",
   "nbconvert_exporter": "python",
   "pygments_lexer": "ipython3",
   "version": "3.8.5"
  }
 },
 "nbformat": 4,
 "nbformat_minor": 4
}
