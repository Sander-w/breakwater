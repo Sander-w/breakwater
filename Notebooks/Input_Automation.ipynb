{
 "cells": [
  {
   "cell_type": "code",
   "execution_count": 1,
   "metadata": {},
   "outputs": [],
   "source": [
    "import breakwater as bw\n",
    "import pandas as pd\n",
    "import matplotlib.pyplot as plt\n",
    "%matplotlib inline"
   ]
  },
  {
   "cell_type": "markdown",
   "metadata": {},
   "source": [
    "## Read Input\n",
    "\n",
    "1. Hydraulic input conditions\n",
    "2. Damage levels"
   ]
  },
  {
   "cell_type": "markdown",
   "metadata": {},
   "source": [
    "#### Provide path of input excel file"
   ]
  },
  {
   "cell_type": "code",
   "execution_count": 2,
   "metadata": {},
   "outputs": [],
   "source": [
    "#Path excel file\n",
    "path = 'Excel_Files/Input_Energy_Island.xlsx'"
   ]
  },
  {
   "cell_type": "code",
   "execution_count": 3,
   "metadata": {},
   "outputs": [],
   "source": [
    "df_input_hydraulic = pd.read_excel(path, sheet_name= 'Hydraulic_Design_Conditions')\n",
    "df_input_damage = pd.read_excel(path, sheet_name= 'Design_Requirements')"
   ]
  },
  {
   "cell_type": "code",
   "execution_count": 4,
   "metadata": {},
   "outputs": [
    {
     "data": {
      "text/html": [
       "<div>\n",
       "<style scoped>\n",
       "    .dataframe tbody tr th:only-of-type {\n",
       "        vertical-align: middle;\n",
       "    }\n",
       "\n",
       "    .dataframe tbody tr th {\n",
       "        vertical-align: top;\n",
       "    }\n",
       "\n",
       "    .dataframe thead th {\n",
       "        text-align: right;\n",
       "    }\n",
       "</style>\n",
       "<table border=\"1\" class=\"dataframe\">\n",
       "  <thead>\n",
       "    <tr style=\"text-align: right;\">\n",
       "      <th></th>\n",
       "      <th>Case_ID</th>\n",
       "      <th>DIR (deg_N)</th>\n",
       "      <th>Hm0(m)</th>\n",
       "      <th>Tp(s)</th>\n",
       "      <th>ReturnPeriod(YR)</th>\n",
       "      <th>Design high water level (LAT+m)</th>\n",
       "      <th>Design low water level (LAT+m)</th>\n",
       "    </tr>\n",
       "  </thead>\n",
       "  <tbody>\n",
       "    <tr>\n",
       "      <th>0</th>\n",
       "      <td>1</td>\n",
       "      <td>0</td>\n",
       "      <td>3.9</td>\n",
       "      <td>10.4</td>\n",
       "      <td>1</td>\n",
       "      <td>2.41</td>\n",
       "      <td>0</td>\n",
       "    </tr>\n",
       "    <tr>\n",
       "      <th>1</th>\n",
       "      <td>2</td>\n",
       "      <td>45</td>\n",
       "      <td>4.2</td>\n",
       "      <td>9.1</td>\n",
       "      <td>1</td>\n",
       "      <td>2.41</td>\n",
       "      <td>0</td>\n",
       "    </tr>\n",
       "    <tr>\n",
       "      <th>2</th>\n",
       "      <td>3</td>\n",
       "      <td>90</td>\n",
       "      <td>3.4</td>\n",
       "      <td>7.3</td>\n",
       "      <td>1</td>\n",
       "      <td>2.41</td>\n",
       "      <td>0</td>\n",
       "    </tr>\n",
       "  </tbody>\n",
       "</table>\n",
       "</div>"
      ],
      "text/plain": [
       "   Case_ID  DIR (deg_N)  Hm0(m)  Tp(s)  ReturnPeriod(YR)  \\\n",
       "0        1            0     3.9   10.4                 1   \n",
       "1        2           45     4.2    9.1                 1   \n",
       "2        3           90     3.4    7.3                 1   \n",
       "\n",
       "   Design high water level (LAT+m)  Design low water level (LAT+m)  \n",
       "0                             2.41                               0  \n",
       "1                             2.41                               0  \n",
       "2                             2.41                               0  "
      ]
     },
     "execution_count": 4,
     "metadata": {},
     "output_type": "execute_result"
    }
   ],
   "source": [
    "df_input_hydraulic.head(3)"
   ]
  },
  {
   "cell_type": "code",
   "execution_count": 5,
   "metadata": {},
   "outputs": [
    {
     "data": {
      "text/html": [
       "<div>\n",
       "<style scoped>\n",
       "    .dataframe tbody tr th:only-of-type {\n",
       "        vertical-align: middle;\n",
       "    }\n",
       "\n",
       "    .dataframe tbody tr th {\n",
       "        vertical-align: top;\n",
       "    }\n",
       "\n",
       "    .dataframe thead th {\n",
       "        text-align: right;\n",
       "    }\n",
       "</style>\n",
       "<table border=\"1\" class=\"dataframe\">\n",
       "  <thead>\n",
       "    <tr style=\"text-align: right;\">\n",
       "      <th></th>\n",
       "      <th>ReturnPeriod(YR)</th>\n",
       "      <th>Damage Rock Armour accepted, S (-)</th>\n",
       "      <th>Damage Toe accepted NoD (-)</th>\n",
       "      <th>Overtopping accepted q (l/s/m)</th>\n",
       "    </tr>\n",
       "  </thead>\n",
       "  <tbody>\n",
       "    <tr>\n",
       "      <th>0</th>\n",
       "      <td>1</td>\n",
       "      <td>2</td>\n",
       "      <td>0.5</td>\n",
       "      <td>1</td>\n",
       "    </tr>\n",
       "    <tr>\n",
       "      <th>1</th>\n",
       "      <td>5</td>\n",
       "      <td>2</td>\n",
       "      <td>0.5</td>\n",
       "      <td>10</td>\n",
       "    </tr>\n",
       "    <tr>\n",
       "      <th>2</th>\n",
       "      <td>10</td>\n",
       "      <td>2</td>\n",
       "      <td>0.5</td>\n",
       "      <td>10</td>\n",
       "    </tr>\n",
       "  </tbody>\n",
       "</table>\n",
       "</div>"
      ],
      "text/plain": [
       "   ReturnPeriod(YR)  Damage Rock Armour accepted, S (-)  \\\n",
       "0                 1                                   2   \n",
       "1                 5                                   2   \n",
       "2                10                                   2   \n",
       "\n",
       "   Damage Toe accepted NoD (-)  Overtopping accepted q (l/s/m)  \n",
       "0                          0.5                               1  \n",
       "1                          0.5                              10  \n",
       "2                          0.5                              10  "
      ]
     },
     "execution_count": 5,
     "metadata": {},
     "output_type": "execute_result"
    }
   ],
   "source": [
    "df_input_damage.head(3)"
   ]
  },
  {
   "cell_type": "markdown",
   "metadata": {},
   "source": [
    "#### Choose a return period"
   ]
  },
  {
   "cell_type": "code",
   "execution_count": 6,
   "metadata": {},
   "outputs": [],
   "source": [
    "RP = 1000"
   ]
  },
  {
   "cell_type": "code",
   "execution_count": 7,
   "metadata": {},
   "outputs": [],
   "source": [
    "df_input_hydraulic = df_input_hydraulic[df_input_hydraulic['ReturnPeriod(YR)'] == RP].reset_index()\n",
    "df_input_damage = df_input_damage[df_input_damage['ReturnPeriod(YR)'] == RP].reset_index()"
   ]
  },
  {
   "cell_type": "markdown",
   "metadata": {},
   "source": [
    "#### Wave conditions"
   ]
  },
  {
   "cell_type": "code",
   "execution_count": 8,
   "metadata": {},
   "outputs": [
    {
     "data": {
      "text/html": [
       "<div>\n",
       "<style scoped>\n",
       "    .dataframe tbody tr th:only-of-type {\n",
       "        vertical-align: middle;\n",
       "    }\n",
       "\n",
       "    .dataframe tbody tr th {\n",
       "        vertical-align: top;\n",
       "    }\n",
       "\n",
       "    .dataframe thead th {\n",
       "        text-align: right;\n",
       "    }\n",
       "</style>\n",
       "<table border=\"1\" class=\"dataframe\">\n",
       "  <thead>\n",
       "    <tr style=\"text-align: right;\">\n",
       "      <th></th>\n",
       "      <th>index</th>\n",
       "      <th>Case_ID</th>\n",
       "      <th>DIR (deg_N)</th>\n",
       "      <th>Hm0(m)</th>\n",
       "      <th>Tp(s)</th>\n",
       "      <th>ReturnPeriod(YR)</th>\n",
       "      <th>Design high water level (LAT+m)</th>\n",
       "      <th>Design low water level (LAT+m)</th>\n",
       "    </tr>\n",
       "  </thead>\n",
       "  <tbody>\n",
       "    <tr>\n",
       "      <th>0</th>\n",
       "      <td>48</td>\n",
       "      <td>49</td>\n",
       "      <td>0</td>\n",
       "      <td>8.4</td>\n",
       "      <td>13.2</td>\n",
       "      <td>1000</td>\n",
       "      <td>3.41</td>\n",
       "      <td>0</td>\n",
       "    </tr>\n",
       "    <tr>\n",
       "      <th>1</th>\n",
       "      <td>49</td>\n",
       "      <td>50</td>\n",
       "      <td>45</td>\n",
       "      <td>8.8</td>\n",
       "      <td>11.8</td>\n",
       "      <td>1000</td>\n",
       "      <td>3.41</td>\n",
       "      <td>0</td>\n",
       "    </tr>\n",
       "    <tr>\n",
       "      <th>2</th>\n",
       "      <td>50</td>\n",
       "      <td>51</td>\n",
       "      <td>90</td>\n",
       "      <td>6.7</td>\n",
       "      <td>9.1</td>\n",
       "      <td>1000</td>\n",
       "      <td>3.41</td>\n",
       "      <td>0</td>\n",
       "    </tr>\n",
       "    <tr>\n",
       "      <th>3</th>\n",
       "      <td>51</td>\n",
       "      <td>52</td>\n",
       "      <td>135</td>\n",
       "      <td>7.5</td>\n",
       "      <td>10.1</td>\n",
       "      <td>1000</td>\n",
       "      <td>3.41</td>\n",
       "      <td>0</td>\n",
       "    </tr>\n",
       "    <tr>\n",
       "      <th>4</th>\n",
       "      <td>52</td>\n",
       "      <td>53</td>\n",
       "      <td>180</td>\n",
       "      <td>10.0</td>\n",
       "      <td>13.0</td>\n",
       "      <td>1000</td>\n",
       "      <td>3.41</td>\n",
       "      <td>0</td>\n",
       "    </tr>\n",
       "    <tr>\n",
       "      <th>5</th>\n",
       "      <td>53</td>\n",
       "      <td>54</td>\n",
       "      <td>225</td>\n",
       "      <td>11.4</td>\n",
       "      <td>13.8</td>\n",
       "      <td>1000</td>\n",
       "      <td>3.41</td>\n",
       "      <td>0</td>\n",
       "    </tr>\n",
       "    <tr>\n",
       "      <th>6</th>\n",
       "      <td>54</td>\n",
       "      <td>55</td>\n",
       "      <td>270</td>\n",
       "      <td>12.8</td>\n",
       "      <td>15.8</td>\n",
       "      <td>1000</td>\n",
       "      <td>3.41</td>\n",
       "      <td>0</td>\n",
       "    </tr>\n",
       "    <tr>\n",
       "      <th>7</th>\n",
       "      <td>55</td>\n",
       "      <td>56</td>\n",
       "      <td>315</td>\n",
       "      <td>13.1</td>\n",
       "      <td>17.0</td>\n",
       "      <td>1000</td>\n",
       "      <td>3.41</td>\n",
       "      <td>0</td>\n",
       "    </tr>\n",
       "  </tbody>\n",
       "</table>\n",
       "</div>"
      ],
      "text/plain": [
       "   index  Case_ID  DIR (deg_N)  Hm0(m)  Tp(s)  ReturnPeriod(YR)  \\\n",
       "0     48       49            0     8.4   13.2              1000   \n",
       "1     49       50           45     8.8   11.8              1000   \n",
       "2     50       51           90     6.7    9.1              1000   \n",
       "3     51       52          135     7.5   10.1              1000   \n",
       "4     52       53          180    10.0   13.0              1000   \n",
       "5     53       54          225    11.4   13.8              1000   \n",
       "6     54       55          270    12.8   15.8              1000   \n",
       "7     55       56          315    13.1   17.0              1000   \n",
       "\n",
       "   Design high water level (LAT+m)  Design low water level (LAT+m)  \n",
       "0                             3.41                               0  \n",
       "1                             3.41                               0  \n",
       "2                             3.41                               0  \n",
       "3                             3.41                               0  \n",
       "4                             3.41                               0  \n",
       "5                             3.41                               0  \n",
       "6                             3.41                               0  \n",
       "7                             3.41                               0  "
      ]
     },
     "execution_count": 8,
     "metadata": {},
     "output_type": "execute_result"
    }
   ],
   "source": [
    "df_input_hydraulic"
   ]
  },
  {
   "cell_type": "code",
   "execution_count": 9,
   "metadata": {
    "hide_input": false
   },
   "outputs": [
    {
     "data": {
      "image/png": "[encoded data removed]",
      "text/plain": [
       "<Figure size 1080x360 with 2 Axes>"
      ]
     },
     "metadata": {
      "needs_background": "light"
     },
     "output_type": "display_data"
    }
   ],
   "source": [
    "fig, (ax1, ax2) = plt.subplots(1, 2, figsize=(15,5))\n",
    "\n",
    "df_input_hydraulic.plot('Hm0(m)', 'DIR (deg_N)', color= 'r', kind= 'scatter', ax= ax1);\n",
    "df_input_hydraulic.plot('Tp(s)', 'DIR (deg_N)', color= 'r', kind= 'scatter', ax= ax2);\n",
    "\n",
    "fig.tight_layout()"
   ]
  },
  {
   "cell_type": "markdown",
   "metadata": {},
   "source": [
    "#### Damage levels"
   ]
  },
  {
   "cell_type": "code",
   "execution_count": 10,
   "metadata": {
    "hide_input": false
   },
   "outputs": [
    {
     "data": {
      "text/html": [
       "<div>\n",
       "<style scoped>\n",
       "    .dataframe tbody tr th:only-of-type {\n",
       "        vertical-align: middle;\n",
       "    }\n",
       "\n",
       "    .dataframe tbody tr th {\n",
       "        vertical-align: top;\n",
       "    }\n",
       "\n",
       "    .dataframe thead th {\n",
       "        text-align: right;\n",
       "    }\n",
       "</style>\n",
       "<table border=\"1\" class=\"dataframe\">\n",
       "  <thead>\n",
       "    <tr style=\"text-align: right;\">\n",
       "      <th></th>\n",
       "      <th>index</th>\n",
       "      <th>ReturnPeriod(YR)</th>\n",
       "      <th>Damage Rock Armour accepted, S (-)</th>\n",
       "      <th>Damage Toe accepted NoD (-)</th>\n",
       "      <th>Overtopping accepted q (l/s/m)</th>\n",
       "    </tr>\n",
       "  </thead>\n",
       "  <tbody>\n",
       "    <tr>\n",
       "      <th>0</th>\n",
       "      <td>6</td>\n",
       "      <td>1000</td>\n",
       "      <td>4</td>\n",
       "      <td>3.0</td>\n",
       "      <td>100</td>\n",
       "    </tr>\n",
       "  </tbody>\n",
       "</table>\n",
       "</div>"
      ],
      "text/plain": [
       "   index  ReturnPeriod(YR)  Damage Rock Armour accepted, S (-)  \\\n",
       "0      6              1000                                   4   \n",
       "\n",
       "   Damage Toe accepted NoD (-)  Overtopping accepted q (l/s/m)  \n",
       "0                          3.0                             100  "
      ]
     },
     "execution_count": 10,
     "metadata": {},
     "output_type": "execute_result"
    }
   ],
   "source": [
    "df_input_damage"
   ]
  },
  {
   "cell_type": "code",
   "execution_count": 11,
   "metadata": {},
   "outputs": [],
   "source": [
    "Sd = df_input_damage['Damage Rock Armour accepted, S (-)'].values[0]\n",
    "NoD = df_input_damage['Damage Toe accepted NoD (-)'].values[0]\n",
    "q = df_input_damage['Overtopping accepted q (l/s/m)'].values[0]"
   ]
  },
  {
   "cell_type": "markdown",
   "metadata": {},
   "source": [
    "## 3D shape"
   ]
  },
  {
   "cell_type": "code",
   "execution_count": 12,
   "metadata": {},
   "outputs": [],
   "source": [
    "path = 'KML_files/Energy_Island_Shape.kml'"
   ]
  },
  {
   "cell_type": "code",
   "execution_count": 13,
   "metadata": {},
   "outputs": [
    {
     "data": {
      "text/plain": [
       "{0.0: {'Hm0': 8.4, 'Tp': 13.2},\n",
       " 45.0: {'Hm0': 8.8, 'Tp': 11.8},\n",
       " 90.0: {'Hm0': 6.7, 'Tp': 9.1},\n",
       " 135.0: {'Hm0': 7.5, 'Tp': 10.1},\n",
       " 180.0: {'Hm0': 10.0, 'Tp': 13.0},\n",
       " 225.0: {'Hm0': 11.4, 'Tp': 13.8},\n",
       " 270.0: {'Hm0': 12.8, 'Tp': 15.8},\n",
       " 315.0: {'Hm0': 13.1, 'Tp': 17.0}}"
      ]
     },
     "execution_count": 13,
     "metadata": {},
     "output_type": "execute_result"
    }
   ],
   "source": [
    "wave_conditions = {}\n",
    "\n",
    "for index, row in df_input_hydraulic.iterrows():\n",
    "    wave_conditions[row['DIR (deg_N)']] = {'Hm0': row['Hm0(m)'], 'Tp': row['Tp(s)']}\n",
    "    \n",
    "wave_conditions"
   ]
  },
  {
   "cell_type": "code",
   "execution_count": 14,
   "metadata": {},
   "outputs": [],
   "source": [
    "# create a rock grading, give correct values for M50, NLL and NUL\n",
    "\n",
    "def Non_standard_grading(NLL, NUL, rho_s = 2650, A = {'min': 0.663, 'max': 1.515}, \n",
    "                         B = {'min': 1.041, 'max': 0.959}, fine = False):\n",
    "    \"\"\"\n",
    "    \n",
    "    Calculate the M50_emll and the M50_umul for non-standard gradings\n",
    "    \n",
    "    Parameters\n",
    "    -------------\n",
    "    NLL: int\n",
    "        Nominal Lower Limit of the grading\n",
    "    NULL int\n",
    "        Nominal Upper Limit of the grading\n",
    "    A: dict\n",
    "        Coefficient upper and lower\n",
    "    B: float\n",
    "        Coefficient upper and lower\n",
    "        \n",
    "    returns\n",
    "    -----------\n",
    "    tuple\n",
    "    \n",
    "    \"\"\"\n",
    "    \n",
    "    if not fine:\n",
    "        M50 = (NLL + NUL) / 2\n",
    "        M50_emll = A['min'] * M50 ** B['min']\n",
    "        M50_umul = A['max'] * M50 ** B['max']\n",
    "        return (M50_emll, M50_umul)\n",
    "    \n",
    "    else:\n",
    "        NLL = 2650 * (NLL/1000)**3\n",
    "        NUL = 2650 * (NUL/1000)**3\n",
    "        M50 = (NLL + NUL) / 2\n",
    "        M50_emll = A['min'] * M50 ** B['min']\n",
    "        M50_umul = A['max'] * M50 ** B['max']\n",
    "        return (NLL, NUL, M50_emll, M50_umul)\n",
    "\n",
    "# fine gradings\n",
    "NLL_0_200mm, NUL_0_200mm, M50_emll_0_200mm, M50_umul_0_200mm = Non_standard_grading(NLL = 1, NUL = 200, fine= True)\n",
    "NLL_0_300mm, NUL_0_300mm, M50_emll_0_300mm, M50_umul_0_300mm = Non_standard_grading(NLL = 1, NUL = 300, fine= True)\n",
    "\n",
    "# coarse gradings\n",
    "M50_emll_8_12t, M50_umul_8_12t = Non_standard_grading(NLL = 8000, NUL = 12000)\n",
    "M50_emll_10_13t, M50_umul_10_13t = Non_standard_grading(NLL = 10000, NUL = 13000)\n",
    "\n",
    "Grading_EI = {\n",
    "               '0-200mm':\n",
    "                   {'M50': [M50_emll_0_200mm, M50_umul_0_200mm], 'NLL': NLL_0_200mm, 'NUL': NLL_0_300mm},\n",
    "               '0-300mm':\n",
    "                   {'M50': [M50_emll_0_300mm, M50_umul_0_300mm], 'NLL': NLL_0_300mm, 'NUL': NUL_0_300mm},\n",
    "               '60-300kg':\n",
    "                   {'M50': [45, 135], 'NLL': 15, 'NUL': 300},\n",
    "               '300-1000kg':\n",
    "                   {'M50': [540, 690], 'NLL': 300, 'NUL': 1000},\n",
    "               '1-3t':\n",
    "                   {'M50': [1700, 2100], 'NLL': 1000, 'NUL': 3000},\n",
    "               '3-6t':\n",
    "                   {'M50': [4200, 4800], 'NLL': 3000, 'NUL': 6000},\n",
    "               '8-12t':\n",
    "                   {'M50': [M50_emll_8_12t, M50_umul_8_12t], 'NLL': 8000, 'NUL': 12000},\n",
    "               '10-13t':\n",
    "                   {'M50': [M50_emll_10_13t, M50_umul_10_13t], 'NLL': 10000, 'NUL': 13000}\n",
    "              }\n",
    "\n",
    "Grading = bw.RockGrading(grading= Grading_EI)"
   ]
  },
  {
   "cell_type": "code",
   "execution_count": 15,
   "metadata": {},
   "outputs": [],
   "source": [
    "# create cubipod armour units\n",
    "\n",
    "def Cubipod_units(masses, rho_c = 2400, n = 1):\n",
    "    \n",
    "    \"\"\"\n",
    "    Function to create Cubipods from list of masses\n",
    "    \n",
    "    Parameters\n",
    "    -------------\n",
    "    masses: lst\n",
    "        list of the masses in tons\n",
    "    rho_c: int\n",
    "        density of the concrete in kg/m3\n",
    "    n: int\n",
    "        number of layers\n",
    "    \n",
    "    returns\n",
    "    -----------\n",
    "    dict\n",
    "    \n",
    "    \"\"\"\n",
    "    \n",
    "    units = {}\n",
    "    for m in masses:\n",
    "        V = m / rho_c * 1000\n",
    "        Dn = V ** (1/3)\n",
    "        h = n * Dn\n",
    "        rho_placement = 100 / (Dn**2 / 0.59)\n",
    "        Vc = (V * rho_placement) / 100\n",
    "        V, Dn, h, Vc = round(V, 2), round(Dn, 2), round(h, 2), round(Vc, 2)\n",
    "        units[V] = {\"D\": Dn, \"h\": h, \"Vc\": Vc, 'M': f'{m}t'}\n",
    "        \n",
    "    return units\n",
    "        \n",
    "        \n",
    "        \n",
    "units = Cubipod_units(masses = [28, 35, 41, 50, 55, 65, 95, 150, 230])\n",
    "\n",
    "\n",
    "Cubipod = bw.ConcreteArmour(\n",
    "                            kd=12,\n",
    "                            name=\"Cubipods\",\n",
    "                            units=units,\n",
    "                            )"
   ]
  },
  {
   "cell_type": "code",
   "execution_count": 16,
   "metadata": {},
   "outputs": [
    {
     "name": "stderr",
     "output_type": "stream",
     "text": [
      "LimitStateWarning: Transforming wave periods is only valid in deep water \n"
     ]
    }
   ],
   "source": [
    "battjes_3D = bw.BattjesGroenendijk_3D(h = 27, wave_conditions= wave_conditions, slope_foreshore= (1, 100))\n",
    "\n",
    "H2_3D = battjes_3D.get_Hp(0.02)\n",
    "\n",
    "ULS_3D = bw.LimitState_3D(h= 27, wave_conditions= wave_conditions, H2_per = H2_3D, Sd= 4, Nod= 5, q= 100, label= 'uls')\n",
    "\n",
    "ULS_3D.transform_periods(0.5)"
   ]
  },
  {
   "cell_type": "code",
   "execution_count": 17,
   "metadata": {},
   "outputs": [
    {
     "name": "stderr",
     "output_type": "stream",
     "text": [
      "LimitStateWarning: used Hm0 instead of H13 from uls_45.0 \n",
      "UserWarning: Cubipods is not supported, continued with kt=1 \n",
      "UserWarning: Given crest width is smaller than three units, it is advised to increase the width to at least 7.73 m \n",
      "LimitStateWarning: used Hm0 instead of H13 from uls_90.0 \n",
      "UserWarning: Given crest width is smaller than three units, it is advised to increase the width to at least 6.8 m \n",
      "LimitStateWarning: used Hm0 instead of H13 from uls_135.0 \n",
      "LimitStateWarning: used Hm0 instead of H13 from uls_180.0 \n",
      "UserWarning: Given crest width is smaller than three units, it is advised to increase the width to at least 9.01 m \n",
      "LimitStateWarning: used Hm0 instead of H13 from uls_0.0 \n",
      "UserWarning: Given crest width is smaller than three units, it is advised to increase the width to at least 7.33 m \n",
      "LimitStateWarning: used Hm0 instead of H13 from uls_315.0 \n",
      "UserWarning: Dn50 = 1.92 is out of range for the specified rock grading, 1.649 m is the maximum possible Dn50. 10-13t is taken as  the grading but does not apply to the filter rules. \n",
      "UserWarning: Given crest width is smaller than three units, it is advised to increase the width to at least 11.91 m \n",
      "LimitStateWarning: used Hm0 instead of H13 from uls_225.0 \n",
      "UserWarning: Given crest width is smaller than three units, it is advised to increase the width to at least 10.22 m \n",
      "LimitStateWarning: used Hm0 instead of H13 from uls_270.0 \n"
     ]
    }
   ],
   "source": [
    "EI_3D = bw.structure_3D(\n",
    "                        kml_path= path,\n",
    "                        wave_direction= 'right',\n",
    "                        wave_conditions= wave_conditions,\n",
    "                        shape= 'Linestring',\n",
    "                        structure_type= 'revetment',\n",
    "                        slope= (2,3),\n",
    "                        slope_foreshore= (1,100),\n",
    "                        rho_w= 1025,\n",
    "                        B= 5,\n",
    "                        N= 2600,\n",
    "                        LimitState= ULS_3D,\n",
    "                        ArmourUnit= Cubipod,\n",
    "                        Grading= Grading,\n",
    "                        core_material = {'class': 'QR 1-1000kg', 'Dn50': 0.45},\n",
    "                        filter_rule = 'XblocPlus'\n",
    "                        )"
   ]
  },
  {
   "cell_type": "code",
   "execution_count": 18,
   "metadata": {},
   "outputs": [
    {
     "data": {
      "image/png": "[encoded data removed]",
      "text/plain": [
       "<Figure size 432x288 with 1 Axes>"
      ]
     },
     "metadata": {
      "needs_background": "light"
     },
     "output_type": "display_data"
    }
   ],
   "source": [
    "EI_3D.plot_topview()"
   ]
  },
  {
   "cell_type": "code",
   "execution_count": 19,
   "metadata": {},
   "outputs": [
    {
     "data": {
      "image/png": "[encoded data removed]",
      "text/plain": [
       "<Figure size 720x360 with 1 Axes>"
      ]
     },
     "metadata": {
      "needs_background": "light"
     },
     "output_type": "display_data"
    }
   ],
   "source": [
    "EI_3D.plot_section('a', section= ('section A', 0))"
   ]
  },
  {
   "cell_type": "code",
   "execution_count": 20,
   "metadata": {},
   "outputs": [],
   "source": [
    "# Water levels LAT\n",
    "\n",
    "MHW = 27 + 0.51 \n",
    "MSL = 27 + 0.32\n",
    "MLW = 27 + 0.17"
   ]
  },
  {
   "cell_type": "code",
   "execution_count": 21,
   "metadata": {},
   "outputs": [],
   "source": [
    "dumptruck = bw.Truck(name = 'dumptruck',\n",
    "                     design_type = {'0-300mm': {'cost': 16, 'CO2': None, 'production_rate':  15713.88},\n",
    "                                    'QR 1-1000kg': {'cost': 16, 'CO2': None, 'production_rate':  16197.39}},\n",
    "                     waterlvl = MHW,\n",
    "                     h_dry = 2,\n",
    "                     required_length= 5\n",
    "                    )\n",
    "\n",
    "Hit1200 = bw.HITACHI_EX1200(name = 'Hit1200',\n",
    "                            design_type = {'3-6t': {'cost': 56, 'CO2': None, 'production_rate':  6963.16}},\n",
    "                            waterlvl = MHW,\n",
    "                            h_dry = 2,\n",
    "                            required_length= 4\n",
    ")\n",
    "\n",
    "Hit1900 = bw.HITACHI_EX1900(name = 'Hit1900',\n",
    "                            design_type = {'1-3t': {'cost': 56, 'CO2': None, 'production_rate':  6963.16},\n",
    "                                           '3-6t': {'cost': 56, 'CO2': None, 'production_rate':  6963.16},\n",
    "                                           '8-12t': {'cost': 57, 'CO2': None, 'production_rate':  8355.80},\n",
    "                                           '10-13t': {'cost': 57, 'CO2': None, 'production_rate':  7687.33},\n",
    "                                           '28t': {'cost': 57, 'CO2': None, 'production_rate': 14043.08}},\n",
    "                            waterlvl = MHW,\n",
    "                            h_dry = 2,\n",
    "                            required_length= 5\n",
    ")\n",
    "\n",
    "equipment = [dumptruck, Hit1200, Hit1900]"
   ]
  },
  {
   "cell_type": "code",
   "execution_count": 22,
   "metadata": {},
   "outputs": [],
   "source": [
    "rock_procurement = {\n",
    "                     '0-200mm': {'cost': 9, 'CO2': 9.55*10**-6}, \n",
    "                     '0-300mm': {'cost': 9, 'CO2': 9.55*10**-6}, \n",
    "                     '60-300kg': {'cost': 12, 'CO2': 9.25*10**-6}, \n",
    "                     '300-1000kg': {'cost': 12, 'CO2': 3.6*10**-5}, \n",
    "                     '1-3t': {'cost': 12, 'CO2': 3.6*10**-5}, \n",
    "                     '3-6t': {'cost': 14, 'CO2': 3.6*10**-5}, \n",
    "                     '8-12t': {'cost': 20, 'CO2': 3.6*10**-5}, \n",
    "                     '10-13t': {'cost': 25, 'CO2': 3.6*10**-5}\n",
    "                    }\n",
    "\n",
    "\n",
    "Cubipod_procurement = {\n",
    "                        11.67: {'cost': 105.51, 'CO2': 1.46*10**-4},\n",
    "                        14.58: {'cost': 105.51, 'CO2': 1.46*10**-4},\n",
    "                        17.08: {'cost': 105.51, 'CO2': 1.46*10**-4},\n",
    "                        20.83: {'cost': 105.51, 'CO2': 1.46*10**-4},\n",
    "                        22.92: {'cost': 105.51, 'CO2': 1.46*10**-4},\n",
    "                        27.08: {'cost': 105.51, 'CO2': 1.46*10**-4},\n",
    "                        39.58: {'cost': 105.51, 'CO2': 1.46*10**-4},\n",
    "                        62.5: {'cost': 105.51 + 20.83, 'CO2': 1.46*10**-4},\n",
    "                        95.83: {'cost': 105.51 + 20.83, 'CO2': 1.46*10**-4},\n",
    "                        }"
   ]
  },
  {
   "cell_type": "code",
   "execution_count": 23,
   "metadata": {},
   "outputs": [],
   "source": [
    "df_material_cost = EI_3D.totalcost_3D(\n",
    "                                       core_price= {'cost': 11, 'CO2': 9*10**-6}, \n",
    "                                       grading_price= rock_procurement, \n",
    "                                       unit_price= Cubipod_procurement\n",
    "                                      )"
   ]
  },
  {
   "cell_type": "code",
   "execution_count": 24,
   "metadata": {},
   "outputs": [
    {
     "data": {
      "text/html": [
       "<div>\n",
       "<style scoped>\n",
       "    .dataframe tbody tr th:only-of-type {\n",
       "        vertical-align: middle;\n",
       "    }\n",
       "\n",
       "    .dataframe tbody tr th {\n",
       "        vertical-align: top;\n",
       "    }\n",
       "\n",
       "    .dataframe thead th {\n",
       "        text-align: right;\n",
       "    }\n",
       "</style>\n",
       "<table border=\"1\" class=\"dataframe\">\n",
       "  <thead>\n",
       "    <tr style=\"text-align: right;\">\n",
       "      <th></th>\n",
       "      <th></th>\n",
       "      <th>structure</th>\n",
       "      <th>length [m]</th>\n",
       "      <th>material cost [EUR]</th>\n",
       "      <th>material CO2 [kge]</th>\n",
       "    </tr>\n",
       "  </thead>\n",
       "  <tbody>\n",
       "    <tr>\n",
       "      <th>section A</th>\n",
       "      <th>0</th>\n",
       "      <td>id.None: breakwater with armour units as armou...</td>\n",
       "      <td>267</td>\n",
       "      <td>{'a': 10038221.55, 'b': 10065745.49, 'c': 1023...</td>\n",
       "      <td>{'a': 12.1381, 'b': 13.256, 'c': 13.3694, 'd':...</td>\n",
       "    </tr>\n",
       "    <tr>\n",
       "      <th rowspan=\"4\" valign=\"top\">section B</th>\n",
       "      <th>0</th>\n",
       "      <td>id.None: breakwater with armour units as armou...</td>\n",
       "      <td>2</td>\n",
       "      <td>{'a': 75063.57, 'b': 75269.43, 'c': 76519.11, ...</td>\n",
       "      <td>{'a': 0.0908, 'b': 0.0991, 'c': 0.1, 'd': 0.1032}</td>\n",
       "    </tr>\n",
       "    <tr>\n",
       "      <th>1</th>\n",
       "      <td>id.None: breakwater with armour units as armou...</td>\n",
       "      <td>2</td>\n",
       "      <td>{'a': 74805.66, 'b': 75010.89, 'c': 76257.29, ...</td>\n",
       "      <td>{'a': 0.0905, 'b': 0.0989, 'c': 0.0997, 'd': 0...</td>\n",
       "    </tr>\n",
       "    <tr>\n",
       "      <th>2</th>\n",
       "      <td>id.None: breakwater with armour units as armou...</td>\n",
       "      <td>2</td>\n",
       "      <td>{'a': 74676.86, 'b': 74881.78, 'c': 76126.53, ...</td>\n",
       "      <td>{'a': 0.0904, 'b': 0.0987, 'c': 0.0996, 'd': 0...</td>\n",
       "    </tr>\n",
       "    <tr>\n",
       "      <th>3</th>\n",
       "      <td>id.None: breakwater with armour units as armou...</td>\n",
       "      <td>2</td>\n",
       "      <td>{'a': 74676.86, 'b': 74881.78, 'c': 76126.53, ...</td>\n",
       "      <td>{'a': 0.0904, 'b': 0.0987, 'c': 0.0996, 'd': 0...</td>\n",
       "    </tr>\n",
       "    <tr>\n",
       "      <th>...</th>\n",
       "      <th>...</th>\n",
       "      <td>...</td>\n",
       "      <td>...</td>\n",
       "      <td>...</td>\n",
       "      <td>...</td>\n",
       "    </tr>\n",
       "    <tr>\n",
       "      <th rowspan=\"4\" valign=\"top\">section F</th>\n",
       "      <th>20</th>\n",
       "      <td>id.None: breakwater with armour units as armou...</td>\n",
       "      <td>3</td>\n",
       "      <td>{'a': 163300.61, 'b': 165848.85, 'c': 166424.69}</td>\n",
       "      <td>{'a': 0.1932, 'b': 0.1987, 'c': 0.1934}</td>\n",
       "    </tr>\n",
       "    <tr>\n",
       "      <th>21</th>\n",
       "      <td>id.None: breakwater with armour units as armou...</td>\n",
       "      <td>3</td>\n",
       "      <td>{'a': 163300.61, 'b': 165848.85, 'c': 166424.69}</td>\n",
       "      <td>{'a': 0.1932, 'b': 0.1987, 'c': 0.1934}</td>\n",
       "    </tr>\n",
       "    <tr>\n",
       "      <th>22</th>\n",
       "      <td>id.None: breakwater with armour units as armou...</td>\n",
       "      <td>3</td>\n",
       "      <td>{'a': 163300.61, 'b': 165848.85, 'c': 166424.69}</td>\n",
       "      <td>{'a': 0.1932, 'b': 0.1987, 'c': 0.1934}</td>\n",
       "    </tr>\n",
       "    <tr>\n",
       "      <th>23</th>\n",
       "      <td>id.None: breakwater with armour units as armou...</td>\n",
       "      <td>3</td>\n",
       "      <td>{'a': 172444.37, 'b': 175078.09, 'c': 175683.38}</td>\n",
       "      <td>{'a': 0.2028, 'b': 0.2083, 'c': 0.203}</td>\n",
       "    </tr>\n",
       "    <tr>\n",
       "      <th>section G</th>\n",
       "      <th>0</th>\n",
       "      <td>id.None: breakwater with armour units as armou...</td>\n",
       "      <td>591</td>\n",
       "      <td>{'a': 33307125.88, 'b': 33817176.5, 'c': 33936...</td>\n",
       "      <td>{'a': 39.2417, 'b': 40.3221, 'c': 39.2869}</td>\n",
       "    </tr>\n",
       "  </tbody>\n",
       "</table>\n",
       "<p>118 rows × 4 columns</p>\n",
       "</div>"
      ],
      "text/plain": [
       "                                                      structure  length [m]  \\\n",
       "section A 0   id.None: breakwater with armour units as armou...         267   \n",
       "section B 0   id.None: breakwater with armour units as armou...           2   \n",
       "          1   id.None: breakwater with armour units as armou...           2   \n",
       "          2   id.None: breakwater with armour units as armou...           2   \n",
       "          3   id.None: breakwater with armour units as armou...           2   \n",
       "...                                                         ...         ...   \n",
       "section F 20  id.None: breakwater with armour units as armou...           3   \n",
       "          21  id.None: breakwater with armour units as armou...           3   \n",
       "          22  id.None: breakwater with armour units as armou...           3   \n",
       "          23  id.None: breakwater with armour units as armou...           3   \n",
       "section G 0   id.None: breakwater with armour units as armou...         591   \n",
       "\n",
       "                                            material cost [EUR]  \\\n",
       "section A 0   {'a': 10038221.55, 'b': 10065745.49, 'c': 1023...   \n",
       "section B 0   {'a': 75063.57, 'b': 75269.43, 'c': 76519.11, ...   \n",
       "          1   {'a': 74805.66, 'b': 75010.89, 'c': 76257.29, ...   \n",
       "          2   {'a': 74676.86, 'b': 74881.78, 'c': 76126.53, ...   \n",
       "          3   {'a': 74676.86, 'b': 74881.78, 'c': 76126.53, ...   \n",
       "...                                                         ...   \n",
       "section F 20   {'a': 163300.61, 'b': 165848.85, 'c': 166424.69}   \n",
       "          21   {'a': 163300.61, 'b': 165848.85, 'c': 166424.69}   \n",
       "          22   {'a': 163300.61, 'b': 165848.85, 'c': 166424.69}   \n",
       "          23   {'a': 172444.37, 'b': 175078.09, 'c': 175683.38}   \n",
       "section G 0   {'a': 33307125.88, 'b': 33817176.5, 'c': 33936...   \n",
       "\n",
       "                                             material CO2 [kge]  \n",
       "section A 0   {'a': 12.1381, 'b': 13.256, 'c': 13.3694, 'd':...  \n",
       "section B 0   {'a': 0.0908, 'b': 0.0991, 'c': 0.1, 'd': 0.1032}  \n",
       "          1   {'a': 0.0905, 'b': 0.0989, 'c': 0.0997, 'd': 0...  \n",
       "          2   {'a': 0.0904, 'b': 0.0987, 'c': 0.0996, 'd': 0...  \n",
       "          3   {'a': 0.0904, 'b': 0.0987, 'c': 0.0996, 'd': 0...  \n",
       "...                                                         ...  \n",
       "section F 20            {'a': 0.1932, 'b': 0.1987, 'c': 0.1934}  \n",
       "          21            {'a': 0.1932, 'b': 0.1987, 'c': 0.1934}  \n",
       "          22            {'a': 0.1932, 'b': 0.1987, 'c': 0.1934}  \n",
       "          23             {'a': 0.2028, 'b': 0.2083, 'c': 0.203}  \n",
       "section G 0          {'a': 39.2417, 'b': 40.3221, 'c': 39.2869}  \n",
       "\n",
       "[118 rows x 4 columns]"
      ]
     },
     "execution_count": 24,
     "metadata": {},
     "output_type": "execute_result"
    }
   ],
   "source": [
    "df_material_cost"
   ]
  },
  {
   "cell_type": "code",
   "execution_count": 25,
   "metadata": {},
   "outputs": [],
   "source": [
    "# df_total_cost = EI_3D.totalcost_3D(\n",
    "#                                    equipment= equipment,\n",
    "#                                    core_price= {'cost': 11, 'CO2': 9*10**-6}, \n",
    "#                                    grading_price= rock_procurement, \n",
    "#                                    unit_price= Cubipod_procurement\n",
    "#                                   )"
   ]
  },
  {
   "cell_type": "code",
   "execution_count": 26,
   "metadata": {},
   "outputs": [],
   "source": [
    "# df_total_cost"
   ]
  }
 ],
 "metadata": {
  "kernelspec": {
   "display_name": "Python 3",
   "language": "python",
   "name": "python3"
  },
  "language_info": {
   "codemirror_mode": {
    "name": "ipython",
    "version": 3
   },
   "file_extension": ".py",
   "mimetype": "text/x-python",
   "name": "python",
   "nbconvert_exporter": "python",
   "pygments_lexer": "ipython3",
   "version": "3.8.5"
  }
 },
 "nbformat": 4,
 "nbformat_minor": 4
}
