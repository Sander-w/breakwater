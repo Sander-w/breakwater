{
 "cells": [
  {
   "cell_type": "markdown",
   "metadata": {},
   "source": [
    "# Optimal Equipment Algorithms\n",
    "\n",
    "In this Notebook the different algorithms are demonstrated which can be used to estimate the most optimal set of equipment"
   ]
  },
  {
   "cell_type": "code",
   "execution_count": 1,
   "metadata": {},
   "outputs": [],
   "source": [
    "# hydraulic conditions RP = 10.000 yrs, DIR = 315 degrees North\n",
    "\n",
    "h = 27 \n",
    "Hm0 = 9\n",
    "Tp = 11.8\n",
    "N = int(8 * 3600 / Tp)\n",
    "slope_foreshore = (1, 100)\n",
    "DHWL = 0.2\n",
    "\n",
    "# damage levels\n",
    "\n",
    "Sd = 4\n",
    "Nod = 3\n",
    "q = 100\n",
    "\n",
    "# densities\n",
    "\n",
    "rho_w = 1025  \n",
    "rho_rock = 2650\n",
    "rho_concrete = 2400"
   ]
  },
  {
   "cell_type": "markdown",
   "metadata": {},
   "source": [
    "<div class=\"alert alert-block alert-info\">\n",
    "\n",
    "### 2.2 Limit State\n",
    "\n",
    "Create a limit state with the hydraulic conditions and damage levels."
   ]
  },
  {
   "cell_type": "code",
   "execution_count": 2,
   "metadata": {},
   "outputs": [
    {
     "name": "stderr",
     "output_type": "stream",
     "text": [
      "LimitStateWarning: Transforming wave periods is only valid in deep water \n"
     ]
    }
   ],
   "source": [
    "# create the limit state\n",
    "\n",
    "import breakwater as bw\n",
    "\n",
    "battjes = bw.BattjesGroenendijk(\n",
    "                                Hm0= Hm0, \n",
    "                                h= (h + DHWL), \n",
    "                                slope_foreshore= slope_foreshore\n",
    "                                )\n",
    "\n",
    "H2_per = battjes.get_Hp(0.02)\n",
    "\n",
    "uls = bw.LimitState(\n",
    "                    h= (h + DHWL), \n",
    "                    H2_per= H2_per, \n",
    "                    q= q, \n",
    "                    Hm0= Hm0, \n",
    "                    Tp= Tp, \n",
    "                    Sd= Sd, \n",
    "                    Nod= Nod, \n",
    "                    label= \"uls\"\n",
    "                    )\n",
    "\n",
    "uls.transform_periods(0.5)"
   ]
  },
  {
   "cell_type": "markdown",
   "metadata": {},
   "source": [
    "<div class=\"alert alert-block alert-info\">\n",
    "\n",
    "### 2.3 Material\n",
    "\n",
    "Create a rock grading and armour units."
   ]
  },
  {
   "cell_type": "code",
   "execution_count": 3,
   "metadata": {},
   "outputs": [],
   "source": [
    "# create a rock grading, give correct values for M50, NLL and NUL\n",
    "\n",
    "def Non_standard_grading(NLL, NUL, rho_s = 2650, A = {'min': 0.663, 'max': 1.515}, \n",
    "                         B = {'min': 1.041, 'max': 0.959}, fine = False):\n",
    "    \"\"\"\n",
    "    \n",
    "    Calculate the M50_emll and the M50_umul for non-standard gradings\n",
    "    \n",
    "    Parameters\n",
    "    -------------\n",
    "    NLL: int\n",
    "        Nominal Lower Limit of the grading\n",
    "    NULL int\n",
    "        Nominal Upper Limit of the grading\n",
    "    A: dict\n",
    "        Coefficient upper and lower\n",
    "    B: float\n",
    "        Coefficient upper and lower\n",
    "        \n",
    "    returns\n",
    "    -----------\n",
    "    tuple\n",
    "    \n",
    "    \"\"\"\n",
    "    \n",
    "    if not fine:\n",
    "        M50 = (NLL + NUL) / 2\n",
    "        M50_emll = A['min'] * M50 ** B['min']\n",
    "        M50_umul = A['max'] * M50 ** B['max']\n",
    "        return (M50_emll, M50_umul)\n",
    "    \n",
    "    else:\n",
    "        NLL = 2650 * (NLL/1000)**3\n",
    "        NUL = 2650 * (NUL/1000)**3\n",
    "        M50 = (NLL + NUL) / 2\n",
    "        M50_emll = A['min'] * M50 ** B['min']\n",
    "        M50_umul = A['max'] * M50 ** B['max']\n",
    "        return (NLL, NUL, M50_emll, M50_umul)\n",
    "\n",
    "# fine gradings\n",
    "NLL_0_200mm, NUL_0_200mm, M50_emll_0_200mm, M50_umul_0_200mm = Non_standard_grading(NLL = 1, NUL = 200, fine= True)\n",
    "NLL_0_300mm, NUL_0_300mm, M50_emll_0_300mm, M50_umul_0_300mm = Non_standard_grading(NLL = 1, NUL = 300, fine= True)\n",
    "\n",
    "# coarse gradings\n",
    "M50_emll_8_12t, M50_umul_8_12t = Non_standard_grading(NLL = 8000, NUL = 12000)\n",
    "M50_emll_10_13t, M50_umul_10_13t = Non_standard_grading(NLL = 10000, NUL = 13000)\n",
    "\n",
    "Grading_EI = {\n",
    "               '0-200mm':\n",
    "                   {'M50': [M50_emll_0_200mm, M50_umul_0_200mm], 'NLL': NLL_0_200mm, 'NUL': NLL_0_300mm},\n",
    "               '0-300mm':\n",
    "                   {'M50': [M50_emll_0_300mm, M50_umul_0_300mm], 'NLL': NLL_0_300mm, 'NUL': NUL_0_300mm},\n",
    "               '60-300kg':\n",
    "                   {'M50': [45, 135], 'NLL': 15, 'NUL': 300},\n",
    "               '300-1000kg':\n",
    "                   {'M50': [540, 690], 'NLL': 300, 'NUL': 1000},\n",
    "               '1-3t':\n",
    "                   {'M50': [1700, 2100], 'NLL': 1000, 'NUL': 3000},\n",
    "               '3-6t':\n",
    "                   {'M50': [4200, 4800], 'NLL': 3000, 'NUL': 6000},\n",
    "               '8-12t':\n",
    "                   {'M50': [M50_emll_8_12t, M50_umul_8_12t], 'NLL': 8000, 'NUL': 12000},\n",
    "               '10-13t':\n",
    "                   {'M50': [M50_emll_10_13t, M50_umul_10_13t], 'NLL': 10000, 'NUL': 13000}\n",
    "              }\n",
    "\n",
    "Grading = bw.RockGrading(grading= Grading_EI)"
   ]
  },
  {
   "cell_type": "code",
   "execution_count": 4,
   "metadata": {},
   "outputs": [],
   "source": [
    "# Core is quarry run of 1-1000kg\n",
    "\n",
    "M50_core = (1+1000)/2\n",
    "Dn50_core = (M50_core / rho_rock)**(1/3)"
   ]
  },
  {
   "cell_type": "code",
   "execution_count": 5,
   "metadata": {},
   "outputs": [
    {
     "data": {
      "text/plain": [
       "{11.67: {'D': 2.27, 'h': 2.27, 'Vc': 1.34, 'M': '28t'},\n",
       " 14.58: {'D': 2.44, 'h': 2.44, 'Vc': 1.44, 'M': '35t'},\n",
       " 17.08: {'D': 2.58, 'h': 2.58, 'Vc': 1.52, 'M': '41t'},\n",
       " 20.83: {'D': 2.75, 'h': 2.75, 'Vc': 1.62, 'M': '50t'},\n",
       " 22.92: {'D': 2.84, 'h': 2.84, 'Vc': 1.68, 'M': '55t'},\n",
       " 27.08: {'D': 3.0, 'h': 3.0, 'Vc': 1.77, 'M': '65t'},\n",
       " 39.58: {'D': 3.41, 'h': 3.41, 'Vc': 2.01, 'M': '95t'},\n",
       " 62.5: {'D': 3.97, 'h': 3.97, 'Vc': 2.34, 'M': '150t'},\n",
       " 95.83: {'D': 4.58, 'h': 4.58, 'Vc': 2.7, 'M': '230t'}}"
      ]
     },
     "execution_count": 5,
     "metadata": {},
     "output_type": "execute_result"
    }
   ],
   "source": [
    "# create cubipod armour units\n",
    "\n",
    "def Cubipod_units(masses, rho_c = 2400, n = 1):\n",
    "    \n",
    "    \"\"\"\n",
    "    Function to create Cubipods from list of masses\n",
    "    \n",
    "    Parameters\n",
    "    -------------\n",
    "    masses: lst\n",
    "        list of the masses in tons\n",
    "    rho_c: int\n",
    "        density of the concrete in kg/m3\n",
    "    n: int\n",
    "        number of layers\n",
    "    \n",
    "    returns\n",
    "    -----------\n",
    "    dict\n",
    "    \n",
    "    \"\"\"\n",
    "    \n",
    "    units = {}\n",
    "    for m in masses:\n",
    "        V = m / rho_c * 1000\n",
    "        Dn = V ** (1/3)\n",
    "        h = n * Dn\n",
    "        rho_placement = 100 / (Dn**2 / 0.59)\n",
    "        Vc = (V * rho_placement) / 100\n",
    "        V, Dn, h, Vc = round(V, 2), round(Dn, 2), round(h, 2), round(Vc, 2)\n",
    "        units[V] = {\"D\": Dn, \"h\": h, \"Vc\": Vc, 'M': f'{m}t'}\n",
    "        \n",
    "    return units\n",
    "        \n",
    "        \n",
    "        \n",
    "units = Cubipod_units(masses = [28, 35, 41, 50, 55, 65, 95, 150, 230])\n",
    "\n",
    "\n",
    "Cubipod = bw.ConcreteArmour(\n",
    "                            kd=12,\n",
    "                            name=\"Cubipods\",\n",
    "                            rho= rho_concrete,\n",
    "                            units=units,\n",
    "                            )\n",
    "\n",
    "Cubipod.units"
   ]
  },
  {
   "cell_type": "markdown",
   "metadata": {},
   "source": [
    "<div class=\"alert alert-block alert-info\">\n",
    "\n",
    "### 2.4 Material procurement\n",
    "\n",
    "Provide procurement cost voor rock material and armour units.\n",
    "\n",
    "\n"
   ]
  },
  {
   "cell_type": "markdown",
   "metadata": {},
   "source": [
    "| Grading | Cost [EUR/t] | Material factor [t/m3] | Cost [EUR/m3]\n",
    "| --- | --- | --- | ---|\n",
    "| 0-200mm | 9 | 1.91 | 17.19\n",
    "| 0-300mm | 9 | 1.91 | 17.19\n",
    "| 60-300 kg| 12 | 1.85 | 22.20\n",
    "| QR 1-1000 kg| 11 | 1.80 | 19.80\n",
    "| 300-1000 kg | 12 | 1.80 | 21.60\n",
    "| 1-3 t | 12 | 1.80 | 21.60\n",
    "| 3-6 t | 14 | 1.80 | 25.20\n",
    "| 8-12 t | 20 | 1.80 | 36.00\n",
    "| 10-13t | 25 | 1.80 | 45.00\n",
    "| concrete <100t | 106 | 1.46 | 154.76\n",
    "| concrete >100t | 127 | 1.46 | 185.42"
   ]
  },
  {
   "cell_type": "markdown",
   "metadata": {},
   "source": [
    "<div class=\"alert alert-block alert-info\">\n",
    "\n",
    "### 2.5 Create revetment designs"
   ]
  },
  {
   "cell_type": "code",
   "execution_count": 6,
   "metadata": {},
   "outputs": [
    {
     "name": "stderr",
     "output_type": "stream",
     "text": [
      "LimitStateWarning: used Hm0 instead of H13 from uls \n",
      "UserWarning: Cubipods is not supported, continued with kt=1 \n",
      "UserWarning: Given crest width is smaller than three units, it is advised to increase the width to at least 7.73 m \n"
     ]
    }
   ],
   "source": [
    "CRMR = bw.ConcreteRubbleMoundRevetment(\n",
    "                                        slope= (2,3), \n",
    "                                        slope_foreshore= slope_foreshore, \n",
    "                                        rho_w= rho_w, \n",
    "                                        B= 5, \n",
    "                                        N= N,\n",
    "                                        LimitState= uls, \n",
    "                                        Grading= Grading, \n",
    "                                        ArmourUnit = Cubipod, \n",
    "                                        core_material = {'class': 'QR 1-1000kg', 'Dn50': Dn50_core}, \n",
    "                                        filter_rule = 'XblocPlus'\n",
    "                                      )"
   ]
  },
  {
   "cell_type": "code",
   "execution_count": 7,
   "metadata": {},
   "outputs": [
    {
     "data": {
      "image/png": "[encoded data removed]",
      "text/plain": [
       "<Figure size 1080x360 with 3 Axes>"
      ]
     },
     "metadata": {
      "needs_background": "light"
     },
     "output_type": "display_data"
    }
   ],
   "source": [
    "CRMR.plot('all')"
   ]
  },
  {
   "cell_type": "code",
   "execution_count": 8,
   "metadata": {},
   "outputs": [
    {
     "name": "stdout",
     "output_type": "stream",
     "text": [
      "  Variant a\n",
      "| Layer      |   computed Dn50 | class   |   class Dn50 | state      |   layers | Mass   |\n",
      "|------------|-----------------|---------|--------------|------------|----------|--------|\n",
      "| armour     |           2.560 | 17.08   |        2.575 | uls        |        1 | 41t    |\n",
      "| underlayer |           0.918 | 1-3t    |        0.895 | see armour |        2 |        |\n",
      "| toe        |           1.062 | 3-6t    |        1.193 | uls        |          |        |\n",
      "\n",
      "Rc = 10.339 m, designed with uls limit state\n",
      "\n",
      "\n",
      "  Variant b\n",
      "| Layer      |   computed Dn50 | class   |   class Dn50 | state      |   layers | Mass   |\n",
      "|------------|-----------------|---------|--------------|------------|----------|--------|\n",
      "| armour     |           2.560 | 17.08   |        2.575 | uls        |        1 | 41t    |\n",
      "| underlayer |           1.246 | 8-12t   |        1.558 | see armour |        2 |        |\n",
      "| toe        |           1.062 | 3-6t    |        1.193 | uls        |          |        |\n",
      "\n",
      "Rc = 10.339 m, designed with uls limit state\n",
      "\n",
      "\n",
      "  Variant c\n",
      "| Layer        |   computed Dn50 | class   |   class Dn50 | state      |   layers | Mass   |\n",
      "|--------------|-----------------|---------|--------------|------------|----------|--------|\n",
      "| armour       |           2.560 | 17.08   |        2.575 | uls        |        1 | 41t    |\n",
      "| underlayer   |           1.246 | 8-12t   |        1.558 | see armour |        2 |        |\n",
      "| filter layer |           0.723 | 1-3t    |        0.895 | see armour |        2 |        |\n",
      "| toe          |           1.062 | 3-6t    |        1.193 | uls        |          |        |\n",
      "\n",
      "Rc = 10.339 m, designed with uls limit state\n",
      "\n",
      "\n"
     ]
    }
   ],
   "source": [
    "CRMR.print_variant('all')"
   ]
  },
  {
   "cell_type": "markdown",
   "metadata": {},
   "source": [
    "<div class=\"alert alert-block alert-info\">\n",
    "\n",
    "## 3. Expanded python-based parametric design\n",
    "\n",
    "The current Python tool allows the user only to optimize a design based on the procurement cost of material. The procurement cost is only a fraction of the total cost of the structure. Transport of the material and the installation also take a big part in this cost estimation. Besides optimization in terms of cost it would give also insights if optimization in installation duration is possible. Moreover, the extraction, processing and handling of primary aggregatis is responsible for 7% of global energy consumption. Therefore a design which reduces the $CO_2$ emission is also favourable. The expanded tool will therefore also allow the user to optimize the design on:\n",
    "\n",
    "\n",
    "1. $CO_2$ emission of the material\n",
    "2. Cost of installation methods\n",
    "3. $CO_2$ emission of the installation methods"
   ]
  },
  {
   "cell_type": "markdown",
   "metadata": {},
   "source": [
    "<div class=\"alert alert-block alert-info\">\n",
    "\n",
    "### 3.1 $CO_2$ emission of the material\n",
    "\n",
    "This emission is only related to the production of the material. Transport or other sources of CO2 emission are not taken into account here. The values of CO2 emission are given in kg$CO_2$e/t or kilograms of carbon dioxide equivalent per ton. This is a quantity that describes the amount of CO2 that would have the same global warming potential (GWP), when measured over a specified timescale (generally, 100 years)."
   ]
  },
  {
   "cell_type": "markdown",
   "metadata": {},
   "source": [
    "| Grading | Cost [kg$CO_2$e/t] | Material factor [t/m3] | Cost [kg$CO_2$e/m3]\n",
    "| --- | --- | --- | ---|\n",
    "| 0-200mm | $5\\cdot10^{-6}$ | 1.91 | $9.55\\cdot10^{-6}$\n",
    "| 0-300mm | $5\\cdot10^{-6}$ | 1.91 | $9.55\\cdot10^{-6}$\n",
    "| 60-300 kg| $5\\cdot10^{-6}$ | 1.85 | $9.25\\cdot10^{-6}$\n",
    "| QR 1-1000 kg| $5\\cdot10^{-6}$| 1.80 | $9\\cdot10^{-6}$\n",
    "| 300-1000 kg| $2\\cdot10^{-5}$ | 1.80 | $3.6\\cdot10^{-5}$\n",
    "| 1-3 t | $2\\cdot10^{-5}$ | 1.80 | $3.6 \\cdot 10^{-5}$\n",
    "| 3-6 t | $2\\cdot10^{-5}$ | 1.80 | $3.6 \\cdot 10^{-5}$\n",
    "| 8-12 t | $2\\cdot10^{-5}$ | 1.80 | $3.6 \\cdot 10^{-5}$\n",
    "| 1-13t | $2\\cdot10^{-5}$ | 1.80 | $3.6 \\cdot 10^{-5}$\n",
    "| concrete <100t | $1\\cdot10^{-4}$ | 1.46 | $1.46\\cdot10^{-4}$\n",
    "| concrete >100t | $1\\cdot10^{-4}$| 1.46 |$1.46\\cdot10^{-4}$"
   ]
  },
  {
   "cell_type": "code",
   "execution_count": 9,
   "metadata": {},
   "outputs": [],
   "source": [
    "rock_procurement = {\n",
    "                     '0-200mm': {'cost': 9, 'CO2': 9.55*10**-6}, \n",
    "                     '0-300mm': {'cost': 9, 'CO2': 9.55*10**-6}, \n",
    "                     '60-300kg': {'cost': 12, 'CO2': 9.25*10**-6}, \n",
    "                     '300-1000kg': {'cost': 12, 'CO2': 3.6*10**-5}, \n",
    "                     '1-3t': {'cost': 12, 'CO2': 3.6*10**-5}, \n",
    "                     '3-6t': {'cost': 14, 'CO2': 3.6*10**-5}, \n",
    "                     '8-12t': {'cost': 20, 'CO2': 3.6*10**-5}, \n",
    "                     '10-13t': {'cost': 25, 'CO2': 3.6*10**-5}\n",
    "                    }\n",
    "\n",
    "\n",
    "Cubipod_procurement = {\n",
    "                        11.67: {'cost': 105.51, 'CO2': 1.46*10**-4},\n",
    "                        14.58: {'cost': 105.51, 'CO2': 1.46*10**-4},\n",
    "                        17.08: {'cost': 105.51, 'CO2': 1.46*10**-4},\n",
    "                        20.83: {'cost': 105.51, 'CO2': 1.46*10**-4},\n",
    "                        22.92: {'cost': 105.51, 'CO2': 1.46*10**-4},\n",
    "                        27.08: {'cost': 105.51, 'CO2': 1.46*10**-4},\n",
    "                        39.58: {'cost': 105.51, 'CO2': 1.46*10**-4},\n",
    "                        62.5: {'cost': 105.51 + 20.83, 'CO2': 1.46*10**-4},\n",
    "                        95.83: {'cost': 105.51 + 20.83, 'CO2': 1.46*10**-4},\n",
    "                        }\n",
    "\n",
    "Grading.add_cost(rock_procurement)"
   ]
  },
  {
   "cell_type": "markdown",
   "metadata": {},
   "source": [
    "<div class=\"alert alert-block alert-info\">\n",
    "\n",
    "### 3.2 Cost of installation methods\n",
    "\n",
    "The introduction of the installation methods provides a more accurate estimate of the structure costs. Below is a list of the equipment used for Energy Island.\n",
    "\n",
    "1. Land based equipment\n",
    "\n",
    "    a. Caterpillar 345 $\\newline$\n",
    "    b. Caterpillar 385 $\\newline$\n",
    "    c. Hitachi 1200 $\\newline$\n",
    "    d. Hitachi 1900 $\\newline$\n",
    "    e. Liebherr 300t $\\newline$\n",
    "    \n",
    "2. Marine based equipment\n",
    "\n",
    "    a. Fall pipe vessel Storness $\\newline$\n",
    "    b. Fall pipe vessel Braveness $\\newline$\n",
    "    c. Side stone dumper HAM602 $\\newline$\n",
    "    d. Side stone dumper Resolution $\\newline$\n",
    "    e. Stoney-3 barge"
   ]
  },
  {
   "cell_type": "code",
   "execution_count": 10,
   "metadata": {},
   "outputs": [],
   "source": [
    "# Water levels LAT\n",
    "\n",
    "MHW = 27 + 0.51 \n",
    "MSL = 27 + 0.32\n",
    "MLW = 27 + 0.17"
   ]
  },
  {
   "cell_type": "markdown",
   "metadata": {},
   "source": [
    "<div class=\"alert alert-block alert-info\">\n",
    "\n",
    "#### 3.2.1 Land based equipment\n",
    "\n",
    "Below is demonstrated how the land based equipment is created."
   ]
  },
  {
   "cell_type": "code",
   "execution_count": 11,
   "metadata": {},
   "outputs": [],
   "source": [
    "# platefeeder\n",
    "\n",
    "platefeeder = bw.PlateFeeder(name = 'platefeeder',\n",
    "                             design_type = {'0-200mm': {'cost': 69, 'CO2': None, 'production_rate': 18332.86},\n",
    "                                            '0-300mm': {'cost': 46, 'CO2': None, 'production_rate':  35984.79},\n",
    "                                            'QR 1-1000kg': {'cost': 30, 'CO2': None, 'production_rate':  23648.19},\n",
    "                                           '60-300kg': {'cost': 57, 'CO2': None, 'production_rate':  21343.11},\n",
    "                                           '300-1000kg': {'cost': 57, 'CO2': None, 'production_rate':  21343.11},\n",
    "                                           },\n",
    "                             waterlvl = MHW,\n",
    "                             h_dry = 2,\n",
    "                             top_installation = 4,\n",
    ")\n"
   ]
  },
  {
   "cell_type": "code",
   "execution_count": 12,
   "metadata": {},
   "outputs": [],
   "source": [
    "# dumptruck\n",
    "\n",
    "dumptruck = bw.Truck(name = 'dumptruck',\n",
    "                     design_type = {'0-300mm': {'cost': 16, 'CO2': None, 'production_rate':  15713.88},\n",
    "                                    'QR 1-1000kg': {'cost': 16, 'CO2': None, 'production_rate':  16197.39}},\n",
    "                     waterlvl = MHW,\n",
    "                     h_dry = 2,\n",
    "                     required_length = 5\n",
    ")"
   ]
  },
  {
   "cell_type": "code",
   "execution_count": 13,
   "metadata": {},
   "outputs": [],
   "source": [
    "# Caterpillar 385 -> define manually\n",
    "\n",
    "loading_chart_385 = {\n",
    "    12: {\n",
    "        'x': [10.5], \n",
    "        'w': [4.64]\n",
    "        },\n",
    "    10.5: {\n",
    "        'x': [10.5], \n",
    "        'w': [8.3]\n",
    "        },\n",
    "    9: {\n",
    "        'x': [10.5, 12.0], \n",
    "        'w': [9.51, 6.89]\n",
    "        },\n",
    "    7.5: {\n",
    "        'x': [10.5, 12.0], \n",
    "        'w': [10.59, 8.91]\n",
    "        },\n",
    "    6.0: {\n",
    "        'x': [9, 10.5, 12, 13.5], \n",
    "        'w': [12.78, 11.91, 8.88, 5.29]\n",
    "        },\n",
    "    4.5: {\n",
    "        'x': [7.5, 9, 10.5, 12.0, 13.5], \n",
    "        'w': [18.94, 15.42, 11.45, 8.61, 6.42]\n",
    "        },\n",
    "    3.0: {\n",
    "        'x': [6, 7.5, 9, 10.5, 12.0, 13.5], \n",
    "        'w': [28.12, 20.05, 14.59, 10.93, 8.29, 6.26]\n",
    "        },\n",
    "    1.5: {\n",
    "        'x': [6, 7.5, 9, 10.5, 12.0, 13.5], \n",
    "        'w': [26.99, 18.78, 13.80, 10.42, 7.97, 6.08]\n",
    "        },\n",
    "    0: {\n",
    "        'x': [4.5, 6, 7.5, 9, 10.5, 12, 13.5], \n",
    "        'w': [13.81, 25.5, 17.79, 13.14, 9.98, 7.69, 5.93]\n",
    "        },\n",
    "    -1.5: {\n",
    "        'x': [3, 4.5, 6, 7.5, 9, 10.5, 12], \n",
    "        'w': [8.97, 17.21, 24.67, 17.13, 12.66, 9.66, 7.49]\n",
    "        },\n",
    "    -3: {\n",
    "        'x': [1.5, 3, 4.5, 6, 7.5, 9, 10.5, 12], \n",
    "        'w': [10.73, 14.18, 22.53, 24.32, 16.79, 12.39, 9.47, 7.4]\n",
    "        },\n",
    "    -4.5: {\n",
    "        'x': [1.5, 3, 4.5, 6, 7.5, 9, 10.5, 12], \n",
    "        'w': [15.97, 20.26, 29.75, 24.35, 16.72, 12.32, 9.45, 7.49]\n",
    "        },\n",
    "    -6: {\n",
    "        'x': [3, 4.5, 6, 7.5, 9, 10.5], \n",
    "        'w': [27.75, 35.92, 24.71, 16.93, 12.49, 96.70]\n",
    "        },\n",
    "    -7.5: {\n",
    "        'x': [3, 4.5, 6, 7.5, 9], \n",
    "        'w': [36.87, 28.09, 22.05, 17.14, 12.41]\n",
    "        }\n",
    "}\n",
    "\n",
    "CP385 = bw.Excavator(\n",
    "    name = 'CP385',\n",
    "     loading_chart = loading_chart_385,\n",
    "     design_type = {'60-300kg': {'cost': 39, 'CO2': None, 'production_rate': 14761.90},\n",
    "                    '300-1000kg': {'cost': 39, 'CO2': None, 'production_rate':  14761.90},\n",
    "                     '1-3t': {'cost': 61, 'CO2': None, 'production_rate':  3899.37}},\n",
    "     waterlvl = MHW,\n",
    "     h_dry = 2,\n",
    "    required_length = 5\n",
    ")\n"
   ]
  },
  {
   "cell_type": "code",
   "execution_count": 14,
   "metadata": {},
   "outputs": [],
   "source": [
    "# Hitachi excavators -> already defined in breakwater package\n",
    "\n",
    "Hit1200 = bw.HITACHI_EX1200(name = 'Hit1200',\n",
    "                            design_type = {'3-6t': {'cost': 56, 'CO2': None, 'production_rate':  6963.16}},\n",
    "                            waterlvl = MHW,\n",
    "                            h_dry = 2,\n",
    "                            required_length = 5\n",
    ")\n",
    "\n",
    "\n",
    "Hit1900 = bw.HITACHI_EX1900(name = 'Hit1900',\n",
    "                            design_type = {'1-3t': {'cost': 56, 'CO2': None, 'production_rate':  6963.16},\n",
    "                                           '3-6t': {'cost': 56, 'CO2': None, 'production_rate':  6963.16},\n",
    "                                           '8-12t': {'cost': 57, 'CO2': None, 'production_rate':  8355.80},\n",
    "                                           '10-13t': {'cost': 57, 'CO2': None, 'production_rate':  7687.33},\n",
    "                                           '28t': {'cost': 57, 'CO2': None, 'production_rate': 14043.08}},\n",
    "                            waterlvl = MHW,\n",
    "                            h_dry = 2,\n",
    "                            required_length = 5\n",
    ")"
   ]
  },
  {
   "cell_type": "code",
   "execution_count": 19,
   "metadata": {},
   "outputs": [],
   "source": [
    "# read Liebherr 300 ton csv file\n",
    "\n",
    "import pandas as pd\n",
    "\n",
    "lc_300 = pd.read_csv('Excel_Files/Liebherr300t.csv')\n",
    "lc_300 = lc_300.set_index('Radius')\n",
    "\n",
    "Liebherr300 = bw.Crane(name= 'Liebherr300',\n",
    "                       design_type= {'28t': {'cost': 174, 'CO2': None, 'production_rate': 4110.17},\n",
    "                                     '55t': {'cost': 159, 'CO2': None, 'production_rate': 4452.68},\n",
    "                                     '41t': {'cost': 145, 'CO2': None, 'production_rate': 4795.20},\n",
    "                                     '50t': {'cost': 137, 'CO2': None, 'production_rate': 5137.71},\n",
    "                                     '55t': {'cost': 130, 'CO2': None, 'production_rate': 5822.74},\n",
    "                                     '65t': {'cost': 115, 'CO2': None, 'production_rate': 6679.03},\n",
    "                                     '95t': {'cost': 108, 'CO2': None, 'production_rate': 6850.28},\n",
    "                                     '150t': {'cost': 92, 'CO2': None, 'production_rate': 8562.85},\n",
    "                                     '230t': {'cost': 85, 'CO2': None, 'production_rate': 9932.91}},\n",
    "                       loading_chart = lc_300,\n",
    "                       waterlvl= MHW,\n",
    "                       h_dry= 2,\n",
    "                       required_length = 5\n",
    "                            )\n",
    "\n",
    "\n",
    "lc_700 = pd.read_csv('Excel_Files/Liebherr700t.csv')\n",
    "lc_700 = lc_700.set_index('Radius')\n",
    "\n",
    "Liebherr700 = bw.Crane(name= 'Liebherr700',\n",
    "                       design_type= {'28t': {'cost': 204, 'CO2': None, 'production_rate': 3110.17},\n",
    "                                     '55t': {'cost': 189, 'CO2': None, 'production_rate': 3452.68},\n",
    "                                     '41t': {'cost': 175, 'CO2': None, 'production_rate': 3795.20},\n",
    "                                     '50t': {'cost': 167, 'CO2': None, 'production_rate': 4137.71},\n",
    "                                     '55t': {'cost': 160, 'CO2': None, 'production_rate': 4822.74},\n",
    "                                     '65t': {'cost': 145, 'CO2': None, 'production_rate': 5679.03},\n",
    "                                     '95t': {'cost': 138, 'CO2': None, 'production_rate': 5850.28},\n",
    "                                     '150t': {'cost': 122, 'CO2': None, 'production_rate': 7562.85},\n",
    "                                     '230t': {'cost': 115, 'CO2': None, 'production_rate': 8932.91}},\n",
    "                       loading_chart = lc_700,\n",
    "                       waterlvl= MHW,\n",
    "                       h_dry= 2,\n",
    "                       required_length = 5\n",
    "                            )\n"
   ]
  },
  {
   "cell_type": "markdown",
   "metadata": {},
   "source": [
    "<div class=\"alert alert-block alert-info\">\n",
    "\n",
    "#### 3.2.2 Marine based equipment\n",
    "\n",
    "Below is demonstrated how the marine based equipment is created."
   ]
  },
  {
   "cell_type": "code",
   "execution_count": 20,
   "metadata": {},
   "outputs": [],
   "source": [
    "# fallpipe vessels\n",
    "\n",
    "FFPV_stor = bw.Vessel(name = 'FFPV_storness',\n",
    "                      design_type = {'0-200mm': {'cost': 40, 'CO2': None, 'production_rate': 22261.33}},\n",
    "                      waterlvl = MLW,\n",
    "                      installation_waterdepth = 14,\n",
    ")\n",
    "\n",
    "FFPV_brave = bw.Vessel(name = 'FFPV_braveness',\n",
    "                       design_type = {'0-200mm': {'cost': 40, 'CO2': None, 'production_rate': 22261.33},\n",
    "                                    '0-300mm': {'cost': 32, 'CO2': None, 'production_rate': 24618.42},\n",
    "                                    '60-300kg': {'cost': 42, 'CO2': None, 'production_rate': 18240.51}},\n",
    "                       waterlvl = MLW,\n",
    "                       installation_waterdepth = 8,\n",
    ")"
   ]
  },
  {
   "cell_type": "code",
   "execution_count": 21,
   "metadata": {},
   "outputs": [],
   "source": [
    "# side stone dumper\n",
    "\n",
    "SSD_res = bw.Vessel(name = 'SSD_resolution',\n",
    "                    design_type = {'0-200mm': {'cost': 59, 'CO2': None, 'production_rate': 14928.19},\n",
    "                                   '0-300mm': {'cost': 55, 'CO2': None, 'production_rate': 15504.36},\n",
    "                                   'QR 1-1000kg': {'cost': 57, 'CO2': None, 'production_rate': 14793.61},\n",
    "                                   '60-300kg': {'cost': 58, 'CO2': None, 'production_rate': 14483.83},\n",
    "                                   '300-1000kg': {'cost': 58, 'CO2': None, 'production_rate': 14483.83},\n",
    "                                   '1-3t': {'cost': 74, 'CO2': None, 'production_rate': 1141.06},\n",
    "                                   '3-6t': {'cost': 79, 'CO2': None, 'production_rate': 10528.30},\n",
    "                                   '8-12t': {'cost': 65, 'CO2': None, 'production_rate': 13090.75},\n",
    "                                   '10-13t': {'cost': 65, 'CO2': None, 'production_rate': 13202.16}},\n",
    "                    waterlvl = MLW,\n",
    "                    installation_waterdepth = 5,\n",
    ")\n",
    "\n",
    "SSD_HAM = bw.Vessel(name = 'SSD_HAM602',\n",
    "                    design_type = {'QR 1-1000kg': {'cost': 100, 'CO2': None, 'production_rate': 1889.70},\n",
    "                                   '300-1000kg': {'cost': 86, 'CO2': None, 'production_rate': 2228.21}},\n",
    "                    waterlvl = MLW,\n",
    "                    installation_waterdepth = 3,\n",
    ")\n"
   ]
  },
  {
   "cell_type": "code",
   "execution_count": 22,
   "metadata": {},
   "outputs": [],
   "source": [
    "# barge with Hit1900\n",
    "\n",
    "barge_Hit1900 = bw.Barge(name = 'Barge_Hit1900',\n",
    "                         waterlvl = MLW,\n",
    "                         other = Hit1900,\n",
    "                         downtime_production = 100,\n",
    "                         extra_cost = 500,\n",
    "                         installation_waterdepth = 4.4,\n",
    "                         height = 7\n",
    ")\n",
    "\n",
    "barge_Liebherr300 = bw.Barge(name = 'Barge_Liebherr300',\n",
    "                         waterlvl = MLW,\n",
    "                         other = Liebherr300,\n",
    "                         downtime_production = 100,\n",
    "                         extra_cost = 500,\n",
    "                         installation_waterdepth = 4.4,\n",
    "                         height = 7\n",
    ")\n",
    "\n",
    "barge_Liebherr700 = bw.Barge(name = 'Barge_Liebherr700',\n",
    "                         waterlvl = MLW,\n",
    "                         other = Liebherr700,\n",
    "                         downtime_production = 100,\n",
    "                         extra_cost = 500,\n",
    "                         installation_waterdepth = 4.4,\n",
    "                         height = 7\n",
    ")\n",
    "\n",
    "\n",
    "barge_platefeeder = bw.Barge(name = 'Barge_platefeeder',\n",
    "                         waterlvl = MLW,\n",
    "                         other = platefeeder,\n",
    "                         downtime_production = 100,\n",
    "                         extra_cost = 500,\n",
    "                         installation_waterdepth = 4.4,\n",
    "                         height = 7\n",
    ")"
   ]
  },
  {
   "cell_type": "code",
   "execution_count": 23,
   "metadata": {},
   "outputs": [],
   "source": [
    "all_equipment = [dumptruck, CP385, Hit1200, Hit1900, Liebherr300, Liebherr700,\n",
    "                 FFPV_stor, FFPV_brave, SSD_res, SSD_HAM, barge_Hit1900, \n",
    "                 barge_Liebherr300, barge_Liebherr700,  barge_platefeeder]\n"
   ]
  },
  {
   "cell_type": "markdown",
   "metadata": {},
   "source": [
    "<div class=\"alert alert-block alert-info\">\n",
    "\n",
    "#### 3.2.2 Cheap Combinations"
   ]
  },
  {
   "cell_type": "code",
   "execution_count": 24,
   "metadata": {},
   "outputs": [
    {
     "name": "stdout",
     "output_type": "stream",
     "text": [
      "Wall time: 2.33 s\n"
     ]
    }
   ],
   "source": [
    "%%time\n",
    "\n",
    "total_cost, material_CO2, duration, opt_equip = CRMR.total_cost('all',\n",
    "                                                                equipment = all_equipment,\n",
    "                                                                core_price = {'cost': 11, 'CO2': 9*10**-6},\n",
    "                                                                unit_price = Cubipod_procurement,\n",
    "                                                                optimize_on = ['cost', 'time'],\n",
    "                                                                algorithm = 'cheap_combinations')"
   ]
  },
  {
   "cell_type": "code",
   "execution_count": 25,
   "metadata": {},
   "outputs": [
    {
     "data": {
      "text/plain": [
       "{'a': 285305.16000000003, 'b': 268553.51, 'c': 244074.13}"
      ]
     },
     "execution_count": 25,
     "metadata": {},
     "output_type": "execute_result"
    }
   ],
   "source": [
    "total_cost"
   ]
  },
  {
   "cell_type": "code",
   "execution_count": 26,
   "metadata": {},
   "outputs": [
    {
     "data": {
      "text/plain": [
       "{'a': 0.0447, 'b': 0.0457, 'c': 0.0519}"
      ]
     },
     "execution_count": 26,
     "metadata": {},
     "output_type": "execute_result"
    }
   ],
   "source": [
    "material_CO2"
   ]
  },
  {
   "cell_type": "code",
   "execution_count": 27,
   "metadata": {},
   "outputs": [
    {
     "data": {
      "text/plain": [
       "{'a': 0.25869, 'b': 0.18879, 'c': 0.21681}"
      ]
     },
     "execution_count": 27,
     "metadata": {},
     "output_type": "execute_result"
    }
   ],
   "source": [
    "duration"
   ]
  },
  {
   "cell_type": "code",
   "execution_count": 28,
   "metadata": {},
   "outputs": [
    {
     "data": {
      "text/plain": [
       "{'a': 'Barge_Liebherr300 + Liebherr700 + Liebherr300 + SSD_resolution + Hit1900 + CP385 + SSD_HAM602 + Barge_platefeeder + dumptruck',\n",
       " 'b': 'Barge_Liebherr300 + Liebherr700 + Liebherr300 + SSD_resolution + Hit1900 + SSD_HAM602 + Barge_platefeeder + dumptruck',\n",
       " 'c': 'Barge_Liebherr300 + Liebherr700 + Liebherr300 + SSD_resolution + Hit1900 + SSD_HAM602 + Barge_platefeeder'}"
      ]
     },
     "execution_count": 28,
     "metadata": {},
     "output_type": "execute_result"
    }
   ],
   "source": [
    "opt_equip"
   ]
  },
  {
   "cell_type": "markdown",
   "metadata": {},
   "source": [
    "<div class=\"alert alert-block alert-info\">\n",
    "\n",
    "#### 3.2.2 Cheap Combinations with limit"
   ]
  },
  {
   "cell_type": "code",
   "execution_count": 29,
   "metadata": {},
   "outputs": [
    {
     "name": "stdout",
     "output_type": "stream",
     "text": [
      "Wall time: 2.56 s\n"
     ]
    }
   ],
   "source": [
    "%%time\n",
    "\n",
    "total_cost, material_CO2, duration, opt_equip = CRMR.total_cost('all',\n",
    "                                                                equipment = all_equipment,\n",
    "                                                                core_price = {'cost': 11, 'CO2': 9*10**-6},\n",
    "                                                                unit_price = Cubipod_procurement,\n",
    "                                                                optimize_on = ['cost', 'time'],\n",
    "                                                                algorithm = 'cheap_combinations',\n",
    "                                                                limit = 6)"
   ]
  },
  {
   "cell_type": "code",
   "execution_count": 30,
   "metadata": {},
   "outputs": [
    {
     "data": {
      "text/plain": [
       "{'a': 301032.7, 'b': 275047.21, 'c': 245318.75}"
      ]
     },
     "execution_count": 30,
     "metadata": {},
     "output_type": "execute_result"
    }
   ],
   "source": [
    "total_cost"
   ]
  },
  {
   "cell_type": "code",
   "execution_count": 31,
   "metadata": {},
   "outputs": [
    {
     "data": {
      "text/plain": [
       "{'a': 0.0447, 'b': 0.0457, 'c': 0.0519}"
      ]
     },
     "execution_count": 31,
     "metadata": {},
     "output_type": "execute_result"
    }
   ],
   "source": [
    "material_CO2"
   ]
  },
  {
   "cell_type": "code",
   "execution_count": 32,
   "metadata": {},
   "outputs": [
    {
     "data": {
      "text/plain": [
       "{'a': 0.26032, 'b': 0.19087, 'c': 0.21909}"
      ]
     },
     "execution_count": 32,
     "metadata": {},
     "output_type": "execute_result"
    }
   ],
   "source": [
    "duration"
   ]
  },
  {
   "cell_type": "code",
   "execution_count": 33,
   "metadata": {},
   "outputs": [
    {
     "data": {
      "text/plain": [
       "{'a': 'Barge_Liebherr300 + Liebherr700 + SSD_resolution + Hit1900 + SSD_HAM602 + Barge_platefeeder',\n",
       " 'b': 'Barge_Liebherr300 + Liebherr700 + SSD_resolution + Hit1900 + SSD_HAM602 + Barge_platefeeder',\n",
       " 'c': 'Barge_Liebherr300 + Liebherr700 + SSD_resolution + Hit1900 + SSD_HAM602 + Barge_platefeeder'}"
      ]
     },
     "execution_count": 33,
     "metadata": {},
     "output_type": "execute_result"
    }
   ],
   "source": [
    "opt_equip"
   ]
  },
  {
   "cell_type": "markdown",
   "metadata": {},
   "source": [
    "<div class=\"alert alert-block alert-info\">\n",
    "\n",
    "#### 3.2.2 Smart Combinations"
   ]
  },
  {
   "cell_type": "code",
   "execution_count": 34,
   "metadata": {},
   "outputs": [
    {
     "name": "stdout",
     "output_type": "stream",
     "text": [
      "Wall time: 2.38 s\n"
     ]
    }
   ],
   "source": [
    "%%time\n",
    "\n",
    "total_cost, material_CO2, duration, opt_equip = CRMR.total_cost('all',\n",
    "                                                                equipment = all_equipment,\n",
    "                                                                core_price = {'cost': 11, 'CO2': 9*10**-6},\n",
    "                                                                unit_price = Cubipod_procurement,\n",
    "                                                                optimize_on = ['cost', 'time'],\n",
    "                                                                algorithm = 'smart_combinations')"
   ]
  },
  {
   "cell_type": "code",
   "execution_count": 35,
   "metadata": {},
   "outputs": [
    {
     "data": {
      "text/plain": [
       "{'a': 316261.88, 'b': 293584.77, 'c': 264054.39}"
      ]
     },
     "execution_count": 35,
     "metadata": {},
     "output_type": "execute_result"
    }
   ],
   "source": [
    "total_cost"
   ]
  },
  {
   "cell_type": "code",
   "execution_count": 36,
   "metadata": {},
   "outputs": [
    {
     "data": {
      "text/plain": [
       "{'a': 0.0447, 'b': 0.0457, 'c': 0.0519}"
      ]
     },
     "execution_count": 36,
     "metadata": {},
     "output_type": "execute_result"
    }
   ],
   "source": [
    "material_CO2"
   ]
  },
  {
   "cell_type": "code",
   "execution_count": 37,
   "metadata": {},
   "outputs": [
    {
     "data": {
      "text/plain": [
       "{'a': 0.22588, 'b': 0.16046, 'c': 0.1942}"
      ]
     },
     "execution_count": 37,
     "metadata": {},
     "output_type": "execute_result"
    }
   ],
   "source": [
    "duration"
   ]
  },
  {
   "cell_type": "code",
   "execution_count": 38,
   "metadata": {},
   "outputs": [
    {
     "data": {
      "text/plain": [
       "{'a': 'Liebherr300 + Hit1900 + dumptruck + Liebherr700 + SSD_resolution + Barge_Liebherr300 + Barge_platefeeder',\n",
       " 'b': 'Liebherr300 + Hit1900 + Liebherr700 + dumptruck + SSD_resolution + Barge_Liebherr300 + Barge_platefeeder',\n",
       " 'c': 'Liebherr300 + Hit1900 + Liebherr700 + SSD_resolution + Barge_Liebherr300 + Barge_platefeeder'}"
      ]
     },
     "execution_count": 38,
     "metadata": {},
     "output_type": "execute_result"
    }
   ],
   "source": [
    "opt_equip"
   ]
  }
 ],
 "metadata": {
  "kernelspec": {
   "display_name": "Python 3",
   "language": "python",
   "name": "python3"
  },
  "language_info": {
   "codemirror_mode": {
    "name": "ipython",
    "version": 3
   },
   "file_extension": ".py",
   "mimetype": "text/x-python",
   "name": "python",
   "nbconvert_exporter": "python",
   "pygments_lexer": "ipython3",
   "version": "3.8.5"
  }
 },
 "nbformat": 4,
 "nbformat_minor": 4
}
