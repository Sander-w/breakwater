{
 "cells": [
  {
   "cell_type": "markdown",
   "metadata": {},
   "source": [
    "# Material Cost Demo\n",
    "\n",
    "In this Notebook is demonstrated how procurement cost can be added which result in an estimate of the total procurement of the cross-section"
   ]
  },
  {
   "cell_type": "code",
   "execution_count": 1,
   "metadata": {},
   "outputs": [
    {
     "name": "stderr",
     "output_type": "stream",
     "text": [
      "c:\\users\\p17\\documents\\github\\breakwater\\breakwater\\rubble_2D.py:1298: SyntaxWarning: \"is\" with a literal. Did you mean \"==\"?\n",
      "  if layer is 'core':\n",
      "c:\\users\\p17\\documents\\github\\breakwater\\breakwater\\rubble_2D.py:1303: SyntaxWarning: \"is not\" with a literal. Did you mean \"!=\"?\n",
      "  elif (self._input_arguments['armour'] is not 'Rock'\n",
      "c:\\users\\p17\\documents\\github\\breakwater\\breakwater\\rubble_2D.py:1304: SyntaxWarning: \"is\" with a literal. Did you mean \"==\"?\n",
      "  and layer is 'armour'):\n",
      "c:\\users\\p17\\documents\\github\\breakwater\\breakwater\\rubble_2D.py:1321: SyntaxWarning: \"is\" with a literal. Did you mean \"==\"?\n",
      "  if output is 'variant' or output is 'average':\n",
      "c:\\users\\p17\\documents\\github\\breakwater\\breakwater\\rubble_2D.py:1321: SyntaxWarning: \"is\" with a literal. Did you mean \"==\"?\n",
      "  if output is 'variant' or output is 'average':\n",
      "c:\\users\\p17\\documents\\github\\breakwater\\breakwater\\rubble_2D.py:1327: SyntaxWarning: \"is\" with a literal. Did you mean \"==\"?\n",
      "  elif output is 'layer':\n",
      "c:\\users\\p17\\documents\\github\\breakwater\\breakwater\\rubble_2D.py:1417: SyntaxWarning: \"is\" with a literal. Did you mean \"==\"?\n",
      "  if output is 'average':\n",
      "c:\\users\\p17\\documents\\github\\breakwater\\breakwater\\rubble_2D.py:1434: SyntaxWarning: \"is\" with a literal. Did you mean \"==\"?\n",
      "  if output is 'average':\n"
     ]
    }
   ],
   "source": [
    "import breakwater as bw"
   ]
  },
  {
   "cell_type": "code",
   "execution_count": 2,
   "metadata": {},
   "outputs": [],
   "source": [
    "# hydraulic conditions\n",
    "\n",
    "h = 27 \n",
    "Hm0 = 10\n",
    "h = 25\n",
    "Tp = 15\n",
    "N = int(8 * 3600 / Tp)\n",
    "slope_foreshore = (1, 100)\n",
    "DHWL = 0.2\n",
    "\n",
    "# damage levels\n",
    "\n",
    "Sd = 4\n",
    "Nod = 3\n",
    "q = 100\n",
    "\n",
    "# densities\n",
    "\n",
    "rho_w = 1025  \n",
    "rho_rock = 2650\n",
    "rho_concrete = 2500"
   ]
  },
  {
   "cell_type": "code",
   "execution_count": 3,
   "metadata": {},
   "outputs": [
    {
     "name": "stderr",
     "output_type": "stream",
     "text": [
      "LimitStateWarning: Transforming wave periods is only valid in deep water \n"
     ]
    }
   ],
   "source": [
    "# create the limit state\n",
    "\n",
    "battjes = bw.BattjesGroenendijk(Hm0=Hm0, h= (h + DHWL), slope_foreshore=slope_foreshore)\n",
    "H2_per = battjes.get_Hp(0.02)\n",
    "\n",
    "uls = bw.LimitState(\n",
    "    h=(h + DHWL), H2_per=H2_per, q=q, Hm0=Hm0, Tp=Tp, Sd=Sd, Nod=Nod, label=\"uls\"\n",
    ")\n",
    "uls.transform_periods(0.5)"
   ]
  },
  {
   "cell_type": "code",
   "execution_count": 4,
   "metadata": {},
   "outputs": [],
   "source": [
    "# create cubipod armour units\n",
    "\n",
    "units = {\n",
    "    1: {\"D\": 1, \"h\": 1, \"Vc\": 0.59},\n",
    "    1.5: {\"D\": 1.15, \"h\": 1.10, \"Vc\": 0.68},\n",
    "    3: {\"D\": 1.43, \"h\": 1.40, \"Vc\": 0.85},\n",
    "    5.1: {\"D\": 1.72, \"h\": 1.7, \"Vc\": 1.02},\n",
    "    8.1: {\"D\": 2.01, \"h\": 2.0, \"Vc\": 1.118},\n",
    "    12.1: {\"D\": 2.29, \"h\": 2.3, \"Vc\": 1.35},\n",
    "    23.6: {\"D\": 2.87, \"h\": 2.9, \"Vc\": 1.69},\n",
    "    46.10: {\"D\": 3.59, \"h\": 3.6, \"Vc\": 2.12},\n",
    "    79.70: {\"D\": 4.3, \"h\": 4.3, \"Vc\": 2.54},\n",
    "}\n",
    "\n",
    "concrete_units = bw.ConcreteArmour(\n",
    "    kd=12,\n",
    "    name=\"Cubipods\",\n",
    "    rho= rho_concrete,\n",
    "    units=units,\n",
    ")"
   ]
  },
  {
   "cell_type": "code",
   "execution_count": 5,
   "metadata": {},
   "outputs": [],
   "source": [
    "# create a standard rock grading\n",
    "\n",
    "grading = bw.RockGrading(rho=rho_rock)"
   ]
  },
  {
   "cell_type": "code",
   "execution_count": 6,
   "metadata": {},
   "outputs": [],
   "source": [
    "# add EUR cost rock only\n",
    "\n",
    "grading_costs = {'LMA_5/40': {'cost': 20, 'CO2': None}, 'LMA_10/60': {'cost': 30, 'CO2': None}, \n",
    "                    'LMA_40/200': {'cost': 40, 'CO2': None}, 'LMA_15/300': {'cost': 50, 'CO2': None}, \n",
    "                    'LMA_60/300': {'cost': 60, 'CO2': None}, 'HMA_300/1000': {'cost': 70, 'CO2': None}, \n",
    "                    'HMA_1000/3000': {'cost': 80, 'CO2': None}, 'HMA_3000/6000': {'cost': 90, 'CO2': None}, \n",
    "                    'HMA_6000/10000': {'cost': 100, 'CO2': None}, 'HMA_10000/15000': {'cost': 110, 'CO2': None}}\n",
    "\n",
    "grading.add_cost(grading_costs)"
   ]
  },
  {
   "cell_type": "code",
   "execution_count": 7,
   "metadata": {},
   "outputs": [],
   "source": [
    "# create a design space\n",
    "\n",
    "structure_types = [\"RRM\", \"CRM\"]\n",
    "slope_range = (2, 3)\n",
    "crest_width_range = (8.61, 25, 20)\n",
    "Dn50_core_range = (0.2, 0.5, 3)"
   ]
  },
  {
   "cell_type": "code",
   "execution_count": 8,
   "metadata": {},
   "outputs": [
    {
     "name": "stderr",
     "output_type": "stream",
     "text": [
      "\r",
      "Computing Rubble Mound [....................] 0/20\r",
      "Computing Rubble Mound [=...................] 1/20\r",
      "Computing Rubble Mound [==..................] 2/20\r",
      "Computing Rubble Mound [===.................] 3/20\r",
      "Computing Rubble Mound [====................] 4/20\r",
      "Computing Rubble Mound [=====...............] 5/20\r",
      "Computing Rubble Mound [======..............] 6/20\r",
      "Computing Rubble Mound [=======.............] 7/20\r",
      "Computing Rubble Mound [========............] 8/20\r",
      "Computing Rubble Mound [=========...........] 9/20\r",
      "Computing Rubble Mound [==========..........] 10/20\r",
      "Computing Rubble Mound [===========.........] 11/20\r",
      "Computing Rubble Mound [============........] 12/20\r",
      "Computing Rubble Mound [=============.......] 13/20\r",
      "Computing Rubble Mound [==============......] 14/20\r",
      "Computing Rubble Mound [===============.....] 15/20\r",
      "Computing Rubble Mound [================....] 16/20\r",
      "Computing Rubble Mound [=================...] 17/20\r",
      "Computing Rubble Mound [==================..] 18/20\r",
      "Computing Rubble Mound [===================.] 19/20\r",
      "Computing Rubble Mound [====================] 20/20\r",
      "Computing Rubble Mound [=====================] 20/20\n"
     ]
    }
   ],
   "source": [
    "# run configurations\n",
    "\n",
    "configs = bw.Configurations(\n",
    "    structure= ['CRMR'],\n",
    "    LimitState= uls,\n",
    "    rho_w= rho_w,\n",
    "    slope_foreshore= slope_foreshore,\n",
    "    Grading= grading,\n",
    "    slope= slope_range,\n",
    "    B= crest_width_range,\n",
    "    core_material= {'class': 'quarry', 'Dn50': 0.5},\n",
    "    N= N,\n",
    "    ArmourUnit= concrete_units,\n",
    "    filter_rule= \"Xbloc\",\n",
    "    safety= 0,\n",
    "    phi= 40,\n",
    ")"
   ]
  },
  {
   "cell_type": "code",
   "execution_count": 9,
   "metadata": {},
   "outputs": [
    {
     "name": "stdout",
     "output_type": "stream",
     "text": [
      "| Warning                                        |   Count |\n",
      "|------------------------------------------------|---------|\n",
      "| used Hm0 instead of H13 from uls               |      20 |\n",
      "| Cubipods is not supported, continued with kt=1 |      20 |\n"
     ]
    }
   ],
   "source": [
    "configs.show_warnings()"
   ]
  },
  {
   "cell_type": "code",
   "execution_count": 10,
   "metadata": {},
   "outputs": [],
   "source": [
    "# armour unit costs\n",
    "\n",
    "unit_cost = {\n",
    "    1: {'cost': 20, 'CO2': None},\n",
    "    1.5: {'cost': 30, 'CO2': None},\n",
    "    3: {'cost': 40, 'CO2': None},\n",
    "    5.1: {'cost': 50, 'CO2': None},\n",
    "    8.1: {'cost': 60, 'CO2': None},\n",
    "    12.1: {'cost': 70, 'CO2': None},\n",
    "    23.6: {'cost': 80, 'CO2': None},\n",
    "    46.10: {'cost': 90, 'CO2': None},\n",
    "    79.70: {'cost': 100, 'CO2': None},\n",
    "}"
   ]
  },
  {
   "cell_type": "code",
   "execution_count": 11,
   "metadata": {},
   "outputs": [
    {
     "name": "stderr",
     "output_type": "stream",
     "text": [
      "UserWarning: Cubipods is not supported, continued with kt=1 \n"
     ]
    }
   ],
   "source": [
    "# add cost\n",
    "\n",
    "configs.add_cost(\n",
    "    core_price= {'cost': 10, 'CO2': None},\n",
    "    fill_price= {'cost': 5, 'CO2': None},\n",
    "    unit_price= unit_cost,\n",
    ")"
   ]
  },
  {
   "cell_type": "code",
   "execution_count": 12,
   "metadata": {},
   "outputs": [
    {
     "data": {
      "text/plain": [
       "Index(['B', 'B_toe', 'Dn50_core', 'concept', 'id', 'slope', 'slope_toe',\n",
       "       'type', 'warnings', 'material_cost', 'material_CO2'],\n",
       "      dtype='object')"
      ]
     },
     "execution_count": 12,
     "metadata": {},
     "output_type": "execute_result"
    }
   ],
   "source": [
    "# params we can select in the design explorer\n",
    "\n",
    "configs.df.columns"
   ]
  },
  {
   "cell_type": "code",
   "execution_count": 13,
   "metadata": {},
   "outputs": [],
   "source": [
    "to_DE = False\n",
    "\n",
    "if to_DE:\n",
    "    configs.to_design_explorer(\n",
    "        params=[\"slope\", \"class armour\", \"B\", \"Rc\", \"computed Dn50 armour\", \"material_cost\"]\n",
    "    )"
   ]
  }
 ],
 "metadata": {
  "kernelspec": {
   "display_name": "Python 3",
   "language": "python",
   "name": "python3"
  },
  "language_info": {
   "codemirror_mode": {
    "name": "ipython",
    "version": 3
   },
   "file_extension": ".py",
   "mimetype": "text/x-python",
   "name": "python",
   "nbconvert_exporter": "python",
   "pygments_lexer": "ipython3",
   "version": "3.8.5"
  }
 },
 "nbformat": 4,
 "nbformat_minor": 4
}
