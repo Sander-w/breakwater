{
 "cells": [
  {
   "cell_type": "code",
   "execution_count": 1,
   "id": "45b61d57",
   "metadata": {},
   "outputs": [],
   "source": [
    "import breakwater as bw\n",
    "import pandas as pd\n",
    "import os\n",
    "from pathlib import Path\n",
    "import numpy as np"
   ]
  },
  {
   "cell_type": "code",
   "execution_count": 2,
   "id": "d65f1119",
   "metadata": {},
   "outputs": [],
   "source": [
    "from development_overtopping_DKA import (eurotop2018_6_5, \n",
    "                                         surf_similarity, \n",
    "                                         gamma_beta_eurotop_2018_6_9, \n",
    "                                         calc_beta)\n",
    "from development_armour_stability_DKA import (vangent_armour_reduction, \n",
    "                                              hudson_fixed_slope, \n",
    "                                              rock_manual_5_196, \n",
    "                                              rock_manual_5_195, \n",
    "                                              rock_manual_5_194)\n",
    "from development_material_DKA import(get_class,\n",
    "                                     get_Dn50)\n",
    "\n",
    "from development_scour_DKA import(sumer_fredsoe,\n",
    "                                 v_scour)\n",
    "\n",
    "\n",
    "from breakwater.utils.exceptions import user_warning"
   ]
  },
  {
   "cell_type": "code",
   "execution_count": 3,
   "id": "6f94d9d8",
   "metadata": {},
   "outputs": [
    {
     "name": "stderr",
     "output_type": "stream",
     "text": [
      "C:\\ProgramData\\anaconda3\\envs\\env_bw\\lib\\site-packages\\openpyxl\\worksheet\\_reader.py:312: UserWarning: Data Validation extension is not supported and will be removed\n",
      "  warn(msg)\n"
     ]
    }
   ],
   "source": [
    "project_data = pd.read_excel(Path(\"./Input data/\") / \"test_data_phase_II.xlsx\",\n",
    "                             index_col = 1,\n",
    "                             sheet_name='Input_Project specific')\n",
    "requirements_data = pd.read_excel(Path(\"./Input data/\") / \"test_data_phase_II.xlsx\",\n",
    "                                  index_col = 0,\n",
    "                                  sheet_name='Input_requirements')\n",
    "wave_data = pd.read_excel(Path(\"./Input data/\") / \"test_data_phase_II.xlsx\",\n",
    "                          index_col = 0,\n",
    "                          sheet_name='input_hydrotechnical',\n",
    "                         skiprows = 1)\n",
    "cross_section_data = pd.read_excel(Path(\"./Input data/\") / \"test_data_phase_II.xlsx\", \n",
    "                                   sheet_name='Input_Cross section',\n",
    "                                  skiprows = 1)\n",
    "concrete_element_data = pd.read_excel(Path(\"./Input data/\") / \"test_data_phase_II.xlsx\", \n",
    "                                      sheet_name='Input_concrete_elements',\n",
    "                                      index_col = 0,\n",
    "                                      skiprows = 1)\n",
    "gradings_data = pd.read_excel(Path(\"./Input data/\") / \"test_data_phase_II.xlsx\", \n",
    "                                      sheet_name='input_rock_gradings',\n",
    "                                      index_col = 0,\n",
    "                                      skiprows = 2)"
   ]
  },
  {
   "cell_type": "code",
   "execution_count": 4,
   "id": "3a4b7904",
   "metadata": {},
   "outputs": [],
   "source": [
    "#project_data"
   ]
  },
  {
   "cell_type": "code",
   "execution_count": 5,
   "id": "7f2603de",
   "metadata": {},
   "outputs": [],
   "source": [
    "#requirements_data"
   ]
  },
  {
   "cell_type": "code",
   "execution_count": 6,
   "id": "b458a874",
   "metadata": {},
   "outputs": [],
   "source": [
    "#wave_data"
   ]
  },
  {
   "cell_type": "code",
   "execution_count": 7,
   "id": "bca854bc",
   "metadata": {},
   "outputs": [],
   "source": [
    "#cross_section_data"
   ]
  },
  {
   "cell_type": "code",
   "execution_count": 8,
   "id": "b79754d6",
   "metadata": {},
   "outputs": [],
   "source": [
    "#gradings_data"
   ]
  },
  {
   "cell_type": "code",
   "execution_count": null,
   "id": "07c5fc87",
   "metadata": {},
   "outputs": [],
   "source": [
    "# VALIDATE CREST HEIGHT FOR OVERTOPPING\n",
    "\n",
    "# Do we want to put this entire part in a function to keep the scripts clean a bit?\n",
    "\n",
    "\n",
    "Calculation_case = 57\n",
    "Cross_section_id = 0\n",
    "# Public access: allowed\n",
    "\n",
    "# Open project specific parameters\n",
    "g = project_data.at['g', 'Value']\n",
    "\n",
    "# Open structure specific parameters\n",
    "tana          = cross_section_data.at[Cross_section_id, 'tan_a']\n",
    "dir_structure = cross_section_data.at[Cross_section_id, 'dir_structure']\n",
    "safety        = cross_section_data.at[Cross_section_id, 'safety']\n",
    "\n",
    "# Get info for sea state. Currently implemented to do only the first sea state\n",
    "Hm0      = wave_data.at[Calculation_case, 'Hm0']\n",
    "wl       = wave_data.at[Calculation_case, 'wl']\n",
    "Tm_min_1 = wave_data.at[Calculation_case, 'Tm-1,0']\n",
    "dir_wave = wave_data.at[Calculation_case, 'dir_wave']\n",
    "\n",
    "# Get allowed q for the location and calculation case\n",
    "LS        = wave_data.at[Calculation_case, 'Limit State']\n",
    "q_allowed = requirements_data.at['Overtopping limit public access', LS]\n",
    "\n",
    "\n",
    "#Calculate roughness reduction\n",
    "# Set armour for rougness reduction\n",
    "armour_layer = 'Rock'\n",
    "layers       = 2\n",
    "permeability = 'permeable'\n",
    "\n",
    "# Calculate surf-similarity with Hm0 and Tm-1,0\n",
    "xi_m_min_1 = surf_similarity(tana, Hm0, Tm_min_1, g)\n",
    "\n",
    "gamma_f = bw.core.overtopping.gamma_f(armour_layer, \n",
    "                                      xi_m_min_1, \n",
    "                                      layers = layers, \n",
    "                                      permeability = permeability) \n",
    "\n",
    "#Calculate obliqueness reduction. Function based on SAWP-#3504459-V48-IHS-COA-xxx-CAL_Armour_Stability_under_Waves.XLSM\n",
    "beta = calc_beta(dir_structure, dir_wave)\n",
    "gamma_beta = gamma_beta_eurotop_2018_6_9(beta)\n",
    "\n",
    "\n",
    "Rc = eurotop2018_6_5(g, Hm0, q_allowed, gamma_f, gamma_beta, limit = False, safety=safety)\n",
    "z_crest = Rc + wl"
   ]
  }
 ],
 "metadata": {
  "kernelspec": {
   "display_name": "env_bw",
   "language": "python",
   "name": "env_bw"
  },
  "language_info": {
   "codemirror_mode": {
    "name": "ipython",
    "version": 3
   },
   "file_extension": ".py",
   "mimetype": "text/x-python",
   "name": "python",
   "nbconvert_exporter": "python",
   "pygments_lexer": "ipython3",
   "version": "3.8.13"
  }
 },
 "nbformat": 4,
 "nbformat_minor": 5
}
